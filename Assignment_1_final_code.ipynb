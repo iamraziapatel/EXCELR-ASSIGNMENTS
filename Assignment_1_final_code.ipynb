{
 "cells": [
  {
   "cell_type": "markdown",
   "id": "ChsQvGnS96Zl",
   "metadata": {
    "id": "ChsQvGnS96Zl"
   },
   "source": [
    "# Document Details and imports\n",
    "\n",
    "\n",
    " "
   ]
  },
  {
   "cell_type": "markdown",
   "id": "G9dptd3TCZXu",
   "metadata": {
    "id": "G9dptd3TCZXu"
   },
   "source": [
    "\n",
    "```\n",
    "**CREATED BY - Razia patel\n",
    "Date-14 feb23\n",
    "CODE related to - Assignment1 based on statistical concepts related to datascience.**\n",
    "updated on: 10 march \n",
    "updated :Incorporated the interval function for confidence interval instead of manually using ppf.\n",
    "\n",
    "\n",
    "```"
   ]
  },
  {
   "cell_type": "code",
   "execution_count": 10,
   "id": "t6_T-3ChlwWf",
   "metadata": {
    "id": "t6_T-3ChlwWf"
   },
   "outputs": [],
   "source": [
    "#import the libraries\n",
    "import pandas as pd\n",
    "from scipy import stats\n",
    "from scipy.stats import norm\n",
    "from scipy.stats import t\n",
    "import seaborn as sns"
   ]
  },
  {
   "cell_type": "markdown",
   "id": "DBAw4hyiUyCA",
   "metadata": {
    "id": "DBAw4hyiUyCA"
   },
   "source": [
    "# Q7)\n",
    "Q7) Calculate Mean, Median, Mode, Variance, Standard Deviation, Range &     comment about the values / draw inferences, for the given dataset –For Points,Score,Weight>\n",
    "Find Mean, Median, Mode, Variance, Standard Deviation, and Range and also Comment about the values/ Draw some inferences.\n"
   ]
  },
  {
   "cell_type": "code",
   "execution_count": 2,
   "id": "1ceab203",
   "metadata": {
    "colab": {
     "base_uri": "https://localhost:8080/",
     "height": 300
    },
    "id": "1ceab203",
    "outputId": "5319c9a6-e7c2-4be6-8378-3099c2e06731"
   },
   "outputs": [
    {
     "data": {
      "text/html": [
       "<div>\n",
       "<style scoped>\n",
       "    .dataframe tbody tr th:only-of-type {\n",
       "        vertical-align: middle;\n",
       "    }\n",
       "\n",
       "    .dataframe tbody tr th {\n",
       "        vertical-align: top;\n",
       "    }\n",
       "\n",
       "    .dataframe thead th {\n",
       "        text-align: right;\n",
       "    }\n",
       "</style>\n",
       "<table border=\"1\" class=\"dataframe\">\n",
       "  <thead>\n",
       "    <tr style=\"text-align: right;\">\n",
       "      <th></th>\n",
       "      <th>Points</th>\n",
       "      <th>Score</th>\n",
       "      <th>Weigh</th>\n",
       "    </tr>\n",
       "  </thead>\n",
       "  <tbody>\n",
       "    <tr>\n",
       "      <th>count</th>\n",
       "      <td>32.000000</td>\n",
       "      <td>32.000000</td>\n",
       "      <td>32.000000</td>\n",
       "    </tr>\n",
       "    <tr>\n",
       "      <th>mean</th>\n",
       "      <td>3.596563</td>\n",
       "      <td>3.217250</td>\n",
       "      <td>17.848750</td>\n",
       "    </tr>\n",
       "    <tr>\n",
       "      <th>std</th>\n",
       "      <td>0.534679</td>\n",
       "      <td>0.978457</td>\n",
       "      <td>1.786943</td>\n",
       "    </tr>\n",
       "    <tr>\n",
       "      <th>min</th>\n",
       "      <td>2.760000</td>\n",
       "      <td>1.513000</td>\n",
       "      <td>14.500000</td>\n",
       "    </tr>\n",
       "    <tr>\n",
       "      <th>25%</th>\n",
       "      <td>3.080000</td>\n",
       "      <td>2.581250</td>\n",
       "      <td>16.892500</td>\n",
       "    </tr>\n",
       "    <tr>\n",
       "      <th>50%</th>\n",
       "      <td>3.695000</td>\n",
       "      <td>3.325000</td>\n",
       "      <td>17.710000</td>\n",
       "    </tr>\n",
       "    <tr>\n",
       "      <th>75%</th>\n",
       "      <td>3.920000</td>\n",
       "      <td>3.610000</td>\n",
       "      <td>18.900000</td>\n",
       "    </tr>\n",
       "    <tr>\n",
       "      <th>max</th>\n",
       "      <td>4.930000</td>\n",
       "      <td>5.424000</td>\n",
       "      <td>22.900000</td>\n",
       "    </tr>\n",
       "  </tbody>\n",
       "</table>\n",
       "</div>"
      ],
      "text/plain": [
       "          Points      Score      Weigh\n",
       "count  32.000000  32.000000  32.000000\n",
       "mean    3.596563   3.217250  17.848750\n",
       "std     0.534679   0.978457   1.786943\n",
       "min     2.760000   1.513000  14.500000\n",
       "25%     3.080000   2.581250  16.892500\n",
       "50%     3.695000   3.325000  17.710000\n",
       "75%     3.920000   3.610000  18.900000\n",
       "max     4.930000   5.424000  22.900000"
      ]
     },
     "execution_count": 2,
     "metadata": {},
     "output_type": "execute_result"
    }
   ],
   "source": [
    "\n",
    "df_Q7 = pd.read_csv('Q7.csv')\n",
    "\n",
    "df_Q7.describe()"
   ]
  },
  {
   "cell_type": "markdown",
   "id": "nbMf-JX7djW5",
   "metadata": {
    "id": "nbMf-JX7djW5"
   },
   "source": [
    " **Inference**\n",
    "1.   The mean ,median and mode have approximately equal values.  \n",
    "2.   since the mean,median and mode for  point,score and weight all three variables are approximately equal hence they show symmetrical frequency curve symmetrical distribution of data.\n",
    "1.   There are no outliers in this data.\n",
    "2.   Since the standard deviation value is low hence the spread is small.All the values are near the mean value"
   ]
  },
  {
   "cell_type": "markdown",
   "id": "D-FLkm79e0_S",
   "metadata": {
    "id": "D-FLkm79e0_S"
   },
   "source": [
    "# Q8)\n",
    "Q8) Calculate Expected Value for the problem below\n",
    "a)\tThe weights (X) of patients at a clinic (in pounds), are\n",
    "108, 110, 123, 134, 135, 145, 167, 187, 199\n",
    "Assume one of the patients is chosen at random. What is the Expected Value of the Weight of that patient?\n"
   ]
  },
  {
   "cell_type": "code",
   "execution_count": 3,
   "id": "19DP2RxcgX_Y",
   "metadata": {
    "colab": {
     "base_uri": "https://localhost:8080/"
    },
    "id": "19DP2RxcgX_Y",
    "outputId": "cd2baaf7-a76a-41d1-b26e-3bdd8b849811"
   },
   "outputs": [
    {
     "data": {
      "text/plain": [
       "0    145.333333\n",
       "dtype: float64"
      ]
     },
     "execution_count": 3,
     "metadata": {},
     "output_type": "execute_result"
    }
   ],
   "source": [
    "Weight=[108, 110, 123, 134, 135, 145, 167, 187, 199]\n",
    "dfWeight=pd.DataFrame(Weight)\n",
    "dfWeight.mean()"
   ]
  },
  {
   "cell_type": "markdown",
   "id": "2a_kolJ6hIWG",
   "metadata": {
    "id": "2a_kolJ6hIWG"
   },
   "source": [
    "**Expected Value =145.333333**"
   ]
  },
  {
   "cell_type": "markdown",
   "id": "8xiCnWmUh17e",
   "metadata": {
    "id": "8xiCnWmUh17e"
   },
   "source": [
    "# Q9)\n",
    "Q9) Calculate Skewness, Kurtosis & draw inferences on the following data\n",
    "      Cars speed and distance \n",
    "\n"
   ]
  },
  {
   "cell_type": "code",
   "execution_count": 4,
   "id": "slHUqSGCiAMj",
   "metadata": {
    "colab": {
     "base_uri": "https://localhost:8080/"
    },
    "id": "slHUqSGCiAMj",
    "outputId": "dcc22269-7947-4714-f1da-450641ff04b3"
   },
   "outputs": [
    {
     "name": "stdout",
     "output_type": "stream",
     "text": [
      "=====Distance skewness and kurtosis =====\n",
      "0.8068949601674215\n",
      "0.4050525816795765\n",
      "======Distance skewness and kurtosis =====\n",
      "-0.11750986144663393\n",
      "-0.5089944204057617\n"
     ]
    }
   ],
   "source": [
    "dfCars=pd.read_csv('Q9_a.csv')\n",
    "print('=====Distance skewness and kurtosis =====')\n",
    "print(dfCars['dist'].skew())\n",
    "print(dfCars['dist'].kurt())\n",
    "\n",
    "print('======Distance skewness and kurtosis =====')\n",
    "print(dfCars['speed'].skew())\n",
    "print(dfCars['speed'].kurt())"
   ]
  },
  {
   "cell_type": "markdown",
   "id": "cQM05osUj6TF",
   "metadata": {
    "id": "cQM05osUj6TF"
   },
   "source": [
    "**Inference for distance 3rd and 4 th moments**\n",
    "Since the skewness is positive number hence this is right skewed with a value of skewness = 0.80689\n",
    "Kurtosis is the measure of tailedness it also is a positive value = 0.4050 the graph will be show right tailedness with a value = 0.4050 \n",
    " **Inference for speed 3rd and 4 th**\n",
    "Since the skewness and kurtosis values are –ve  number hence this is slightly left skewed with a slight left tailedness .But since the values are -0.5 and -0.11 ,by convention we can consider this to be a normally distributed data following the bell curve.\n"
   ]
  },
  {
   "cell_type": "markdown",
   "id": "Qq5Ld3Z_lNP2",
   "metadata": {
    "id": "Qq5Ld3Z_lNP2"
   },
   "source": [
    "#Q11) \n",
    "Q11)  Suppose we want to estimate the average weight of an adult male in    Mexico. We draw a random sample of 2,000 men from a population of 3,000,000 men and weigh them. We find that the average person in our sample weighs 200 pounds, and the standard deviation of the sample is 30 pounds. Calculate 94%,98%,96% confidence interval?"
   ]
  },
  {
   "cell_type": "code",
   "execution_count": 5,
   "id": "pZ6PZo0ElQUf",
   "metadata": {
    "colab": {
     "base_uri": "https://localhost:8080/"
    },
    "id": "pZ6PZo0ElQUf",
    "outputId": "5c05bed2-7a8e-48e9-b36d-75058e9d8b30"
   },
   "outputs": [
    {
     "name": "stdout",
     "output_type": "stream",
     "text": [
      "****passing the sample size n= 2000 ****\n",
      "94% confidence interval  = (198.738325292158, 201.261674707842)\n",
      "96% confidence interval = (198.62230334813333, 201.37769665186667)\n",
      "98% confidence interval =  (198.43943840429978, 201.56056159570022)\n",
      "****without passing the sample size n=2000***\n",
      "94% confidence interval  = (143.57619175546247, 256.42380824453755)\n",
      "96% confidence interval = (138.38753268104531, 261.61246731895466)\n",
      "98% confidence interval =  (130.2095637787748, 269.7904362212252)\n"
     ]
    }
   ],
   "source": [
    "import scipy.stats as stats\n",
    "import numpy as np\n",
    "# n= 2000, population size = 3000000 , sample mean =200 ,std dev= 30 \n",
    "\n",
    "\n",
    "print(\"****passing the sample size n= 2000 ****\")\n",
    "print(\"94% confidence interval  =\",stats.norm.interval(0.94,200,scale=30/np.sqrt(2000)))\n",
    "print(\"96% confidence interval =\",stats.norm.interval(0.96,200,scale=30/np.sqrt(2000)))\n",
    "print(\"98% confidence interval = \",stats.norm.interval(0.98,200,scale=30/np.sqrt(2000)))\n",
    "\n",
    "print(\"****without passing the sample size n=2000***\")\n",
    "print(\"94% confidence interval  =\",stats.norm.interval(0.94,200,scale=30))\n",
    "print(\"96% confidence interval =\",stats.norm.interval(0.96,200,scale=30))\n",
    "print(\"98% confidence interval = \",stats.norm.interval(0.98,200,scale=30))\n",
    "\n",
    "#print(\"94% confidence interval t =\",stats.t.interval(alpha=0.94, df=2000, loc=199, scale=30)) # are z scores and t scores same or different"
   ]
  },
  {
   "cell_type": "markdown",
   "id": "pT7jwj_Ers-r",
   "metadata": {
    "id": "pT7jwj_Ers-r"
   },
   "source": [
    "# Q12)  \n",
    "Below are the scores obtained by a student in tests \n",
    "        34,36,36,38,38,39,39,40,40,41,41,41,41,42,42,45,49,56\n",
    "1)\tFind mean, median, variance, standard deviation.\n",
    "2)\tWhat can we say about the student marks? \n"
   ]
  },
  {
   "cell_type": "code",
   "execution_count": 6,
   "id": "WH9t_un0rsAb",
   "metadata": {
    "colab": {
     "base_uri": "https://localhost:8080/",
     "height": 300
    },
    "id": "WH9t_un0rsAb",
    "outputId": "cf17782f-1cff-464d-d146-fdfbc6c0d66c"
   },
   "outputs": [
    {
     "data": {
      "text/html": [
       "<div>\n",
       "<style scoped>\n",
       "    .dataframe tbody tr th:only-of-type {\n",
       "        vertical-align: middle;\n",
       "    }\n",
       "\n",
       "    .dataframe tbody tr th {\n",
       "        vertical-align: top;\n",
       "    }\n",
       "\n",
       "    .dataframe thead th {\n",
       "        text-align: right;\n",
       "    }\n",
       "</style>\n",
       "<table border=\"1\" class=\"dataframe\">\n",
       "  <thead>\n",
       "    <tr style=\"text-align: right;\">\n",
       "      <th></th>\n",
       "      <th>0</th>\n",
       "    </tr>\n",
       "  </thead>\n",
       "  <tbody>\n",
       "    <tr>\n",
       "      <th>count</th>\n",
       "      <td>18.000000</td>\n",
       "    </tr>\n",
       "    <tr>\n",
       "      <th>mean</th>\n",
       "      <td>41.000000</td>\n",
       "    </tr>\n",
       "    <tr>\n",
       "      <th>std</th>\n",
       "      <td>5.052664</td>\n",
       "    </tr>\n",
       "    <tr>\n",
       "      <th>min</th>\n",
       "      <td>34.000000</td>\n",
       "    </tr>\n",
       "    <tr>\n",
       "      <th>25%</th>\n",
       "      <td>38.250000</td>\n",
       "    </tr>\n",
       "    <tr>\n",
       "      <th>50%</th>\n",
       "      <td>40.500000</td>\n",
       "    </tr>\n",
       "    <tr>\n",
       "      <th>75%</th>\n",
       "      <td>41.750000</td>\n",
       "    </tr>\n",
       "    <tr>\n",
       "      <th>max</th>\n",
       "      <td>56.000000</td>\n",
       "    </tr>\n",
       "  </tbody>\n",
       "</table>\n",
       "</div>"
      ],
      "text/plain": [
       "               0\n",
       "count  18.000000\n",
       "mean   41.000000\n",
       "std     5.052664\n",
       "min    34.000000\n",
       "25%    38.250000\n",
       "50%    40.500000\n",
       "75%    41.750000\n",
       "max    56.000000"
      ]
     },
     "execution_count": 6,
     "metadata": {},
     "output_type": "execute_result"
    }
   ],
   "source": [
    "dfScores= pd.DataFrame([34,36,36,38,38,39,39,40,40,41,41,41,41,42,42,45,49,56 ])\n",
    "dfScores.describe()"
   ]
  },
  {
   "cell_type": "markdown",
   "id": "gc5N2QsOswo8",
   "metadata": {
    "id": "gc5N2QsOswo8"
   },
   "source": [
    "**INFERENCE**\n",
    "Ans2)Mean ,Median and Mode have same values hence the data is distributed symmentrically and there are no outliers.Hence this represents a Gaussian curve.\n",
    "Accordig to Empirical rule 68 % people fall in the one std deviation  which is (41-5.0526 ) = 35.9474 to (41 +5.0526)=46.0526\n",
    "95% people fall in the second std deviation which is (41-2*5.0526) =30.8948 to (41+2*5.0526) = 51.10526\n",
    "99.5% people fall is the third std deviation which is ( 41-3*5.0526)= 25.8422 to (41+3*5.0526)=56.1578\n"
   ]
  },
  {
   "cell_type": "markdown",
   "id": "Uk2THbHgtiU4",
   "metadata": {
    "id": "Uk2THbHgtiU4"
   },
   "source": [
    "# Q 20)\n",
    " Q 20)  Calculate probability from the given dataset for the below cases\n",
    "\n",
    "Data _set: Cars.csv\n",
    "Calculate the probability of MPG  of Cars for the below cases.\n",
    "       MPG <- Cars$MPG\n",
    "a.\tP(MPG>38)\n",
    "b.\tP(MPG<40)\n",
    "c.\tP (20<MPG<50)\n"
   ]
  },
  {
   "cell_type": "code",
   "execution_count": 7,
   "id": "SzeQIDYmtpoH",
   "metadata": {
    "colab": {
     "base_uri": "https://localhost:8080/"
    },
    "id": "SzeQIDYmtpoH",
    "outputId": "01707a9f-a249-4d24-9b6b-79452d080fba"
   },
   "outputs": [
    {
     "name": "stdout",
     "output_type": "stream",
     "text": [
      "======P(MPG>38)========\n",
      "0.3475939251582705\n",
      "======P(MPG<40)========\n",
      "0.7293498762151616\n",
      "=====(20<MPG<50)======\n",
      "0.8988689169682046\n"
     ]
    }
   ],
   "source": [
    "dfCar= pd.read_csv('Cars.csv')\n",
    "MPGmorethan38=1-stats.norm.cdf(38,dfCar['MPG'].mean(),dfCar['MPG'].std())\n",
    "print('======P(MPG>38)========')\n",
    "print(MPGmorethan38)\n",
    "\n",
    "MPGlessthan40 = stats.norm.cdf(40,dfCar['MPG'].mean(),dfCar['MPG'].std())\n",
    "print('======P(MPG<40)========')\n",
    "print(MPGlessthan40)\n",
    "MPGbet20n50=stats.norm.cdf(50,dfCar['MPG'].mean(),dfCar['MPG'].std())-stats.norm.cdf(20,dfCar['MPG'].mean(),dfCar['MPG'].std())\n",
    "print('=====(20<MPG<50)======')\n",
    "print(MPGbet20n50)"
   ]
  },
  {
   "cell_type": "markdown",
   "id": "BJLfZXI0xQzM",
   "metadata": {
    "id": "BJLfZXI0xQzM"
   },
   "source": [
    "#  Q 21 )\n",
    "Q 21) Check whether the data follows normal distribution\n",
    "a)\tCheck whether the MPG of Cars follows Normal Distribution \n",
    "        Dataset: Cars.csv  \n"
   ]
  },
  {
   "cell_type": "code",
   "execution_count": 8,
   "id": "ITcFEtvSxRsd",
   "metadata": {
    "colab": {
     "base_uri": "https://localhost:8080/",
     "height": 420
    },
    "id": "ITcFEtvSxRsd",
    "outputId": "b94c8431-fd9b-4ecf-ea59-ade4d848434f"
   },
   "outputs": [
    {
     "name": "stdout",
     "output_type": "stream",
     "text": [
      "====mean===\n",
      "34.422075728024666\n",
      "====median===\n",
      "35.15272697\n"
     ]
    },
    {
     "name": "stderr",
     "output_type": "stream",
     "text": [
      "C:\\Users\\HP\\anaconda3\\lib\\site-packages\\seaborn\\distributions.py:2619: FutureWarning: `distplot` is a deprecated function and will be removed in a future version. Please adapt your code to use either `displot` (a figure-level function with similar flexibility) or `histplot` (an axes-level function for histograms).\n",
      "  warnings.warn(msg, FutureWarning)\n"
     ]
    },
    {
     "data": {
      "text/plain": [
       "<AxesSubplot:xlabel='MPG', ylabel='Density'>"
      ]
     },
     "execution_count": 8,
     "metadata": {},
     "output_type": "execute_result"
    },
    {
     "data": {
      "image/png": "[encoded data removed]",
      "text/plain": [
       "<Figure size 640x480 with 1 Axes>"
      ]
     },
     "metadata": {},
     "output_type": "display_data"
    }
   ],
   "source": [
    "\n",
    "print('====mean===')\n",
    "print(dfCar['MPG'].mean())\n",
    "print('====median===')\n",
    "print(dfCar['MPG'].median())\n",
    "sns.distplot(dfCar.MPG,label='CARS - MPG',color='green')"
   ]
  },
  {
   "cell_type": "markdown",
   "id": "-kH8sWPixmAC",
   "metadata": {
    "id": "-kH8sWPixmAC"
   },
   "source": [
    " **Inference** SINCE MEAN AND MEDIAN are approximately equal hence distribution can be said as normal distribution"
   ]
  },
  {
   "cell_type": "markdown",
   "id": "BbQzvN4mzqZm",
   "metadata": {
    "id": "BbQzvN4mzqZm"
   },
   "source": [
    "b)\tCheck Whether the Adipose Tissue (AT) and Waist Circumference(Waist)  from wc-at data set  follows Normal Distribution \n",
    "       Dataset: wc-at.csv\n"
   ]
  },
  {
   "cell_type": "code",
   "execution_count": 11,
   "id": "amdUEk3JzycE",
   "metadata": {
    "colab": {
     "base_uri": "https://localhost:8080/",
     "height": 476
    },
    "id": "amdUEk3JzycE",
    "outputId": "3b00fa8a-37fa-4d82-b2e2-74858981c638"
   },
   "outputs": [
    {
     "name": "stdout",
     "output_type": "stream",
     "text": [
      "=======Waist=========\n",
      "91.90183486238533\n",
      "90.8\n",
      "=======AT=========\n",
      "101.89403669724771\n",
      "96.54\n"
     ]
    },
    {
     "name": "stderr",
     "output_type": "stream",
     "text": [
      "C:\\Users\\HP\\anaconda3\\lib\\site-packages\\seaborn\\distributions.py:2619: FutureWarning: `distplot` is a deprecated function and will be removed in a future version. Please adapt your code to use either `displot` (a figure-level function with similar flexibility) or `histplot` (an axes-level function for histograms).\n",
      "  warnings.warn(msg, FutureWarning)\n",
      "C:\\Users\\HP\\anaconda3\\lib\\site-packages\\seaborn\\distributions.py:2619: FutureWarning: `distplot` is a deprecated function and will be removed in a future version. Please adapt your code to use either `displot` (a figure-level function with similar flexibility) or `histplot` (an axes-level function for histograms).\n",
      "  warnings.warn(msg, FutureWarning)\n"
     ]
    },
    {
     "data": {
      "image/png": "[encoded data removed]",
      "text/plain": [
       "<Figure size 640x480 with 1 Axes>"
      ]
     },
     "metadata": {},
     "output_type": "display_data"
    }
   ],
   "source": [
    "dfAT = pd.read_csv('wc-at.csv')\n",
    "#print(dfAT.describe())\n",
    "print('=======Waist=========')\n",
    "sns.distplot(dfAT.Waist,label='WAIST',color='red')\n",
    "print(dfAT.Waist.mean())\n",
    "print(dfAT.Waist.median())\n",
    "\n",
    "print('=======AT=========')\n",
    "sns.distplot(dfAT.AT,label='WAIST',color='BLUE')\n",
    "print(dfAT.AT.mean())\n",
    "print(dfAT.AT.median())"
   ]
  },
  {
   "cell_type": "markdown",
   "id": "_HPtSUBA123K",
   "metadata": {
    "id": "_HPtSUBA123K"
   },
   "source": [
    " **INFERENCE** THOUGH the mean and median show very similar values FOR BOTH waist and AT but the **distplot doesnot show a normal distribution** hence they do not follow normal "
   ]
  },
  {
   "cell_type": "markdown",
   "id": "cUkk9mol3MMS",
   "metadata": {
    "id": "cUkk9mol3MMS"
   },
   "source": [
    "# Q 22 )\n",
    "Q 22)Calculate the Z scores of  90% confidence interval,94% confidence interval, 60% confidence interval \n",
    "\n"
   ]
  },
  {
   "cell_type": "code",
   "execution_count": 12,
   "id": "G5iupUkp3P5a",
   "metadata": {
    "colab": {
     "base_uri": "https://localhost:8080/"
    },
    "id": "G5iupUkp3P5a",
    "outputId": "7813e59c-91bb-4e38-b968-63afc94ebea5"
   },
   "outputs": [
    {
     "name": "stdout",
     "output_type": "stream",
     "text": [
      " ***Z scores of 90% confidence interval***\n",
      "-1.6448536269514729\n",
      "1.6448536269514722\n",
      "\n",
      "***Z scores of 94% confidence interval***\n",
      "-1.880793608151251\n",
      "1.8807936081512509\n",
      "\n",
      "***Z scores of 60% confidence interval***\n",
      "-0.8416212335729142\n",
      "0.8416212335729143\n"
     ]
    }
   ],
   "source": [
    "# here we are considering that mean values is 0 ,std dev=1 sinc we need to find the z scores\n",
    "# for 90% the significant value will be 10/2 =\n",
    "\n",
    "print(\" ***Z scores of 90% confidence interval***\")\n",
    "print(stats.norm.ppf(0.05))\n",
    "print(stats.norm.ppf(0.95))\n",
    "\n",
    "# for 94% the significant value will be 6/2 =3\n",
    "print(\"\\n***Z scores of 94% confidence interval***\")\n",
    "print(stats.norm.ppf(0.03))\n",
    "print(stats.norm.ppf(0.97))\n",
    "\n",
    "# for 60% the significant value will be 40/2 =20\n",
    "print(\"\\n***Z scores of 60% confidence interval***\")\n",
    "print(stats.norm.ppf(0.20))\n",
    "print(stats.norm.ppf(0.80))"
   ]
  },
  {
   "cell_type": "markdown",
   "id": "0_JtJqrg5LGC",
   "metadata": {
    "id": "0_JtJqrg5LGC"
   },
   "source": [
    "# Q 23)\n",
    "Q 23) Calculate the t scores of 95% confidence interval, 96% confidence interval, 99% confidence interval for sample size of 25"
   ]
  },
  {
   "cell_type": "code",
   "execution_count": 13,
   "id": "6mR67d3d5NBK",
   "metadata": {
    "colab": {
     "base_uri": "https://localhost:8080/"
    },
    "id": "6mR67d3d5NBK",
    "outputId": "15095554-070b-4e55-81c8-be54f3981c63"
   },
   "outputs": [
    {
     "name": "stdout",
     "output_type": "stream",
     "text": [
      "-2.063898561628021\n",
      "2.0638985616280205\n",
      "-2.171544676008068\n",
      "2.1715446760080677\n",
      "-2.796939504772805\n",
      "2.796939504772804\n"
     ]
    }
   ],
   "source": [
    " # for 95% the significant value will be 5/2 =2.5and df =n-1 = 25-1=24\n",
    "    \n",
    "print(stats.t.ppf(0.025,24))\n",
    "print(stats.t.ppf(0.975,24))\n",
    "\n",
    "# for 96% the significant value will be 4/2 =2\n",
    "print(stats.t.ppf(0.02,24))\n",
    "print(stats.t.ppf(0.98,24))\n",
    "\n",
    "# for 99% the significant value will be 1/2 =.5\n",
    "print(stats.t.ppf(0.005,24))\n",
    "print(stats.t.ppf(0.995,24))"
   ]
  },
  {
   "cell_type": "markdown",
   "id": "aGqUXbBs6YJL",
   "metadata": {
    "id": "aGqUXbBs6YJL"
   },
   "source": [
    "# Q 24)\n",
    " Q 24)   A Government  company claims that an average light bulb lasts 270 days. A researcher randomly selects 18 bulbs for testing. The sampled bulbs last an average of 260 days, with a standard deviation of 90 days. If the CEO's claim were true, what is the probability that 18 randomly selected bulbs would have an average life of no more than 260 days\n",
    "Hint:  \n",
    "   rcode   pt(tscore,df)  \n",
    " df  degrees of freedom =n-1\n",
    "\n"
   ]
  },
  {
   "cell_type": "markdown",
   "id": "7bff68c1",
   "metadata": {},
   "source": [
    "x̄ = sample mean = 260\n",
    "μ0 = population mean = 270\n",
    "s = sample standard deviation = 90\n",
    "n = sample size = 18 hence df=17\n",
    "To find P(x<=260) we  will use t.cdf(x, df, loc=0, scale=1) "
   ]
  },
  {
   "cell_type": "code",
   "execution_count": 14,
   "id": "4a26b438",
   "metadata": {},
   "outputs": [
    {
     "data": {
      "text/plain": [
       "('probability P(x<=260) ', 0.3714793150037039, '=', 37.14793150037039, '%')"
      ]
     },
     "execution_count": 14,
     "metadata": {},
     "output_type": "execute_result"
    }
   ],
   "source": [
    "P_x_less_260 = stats.t.cdf(260,df=17,loc=270,scale=30)\n",
    "\n",
    "(\"probability P(x<=260) \",P_x_less_260,\"=\",P_x_less_260*100,\"%\")\n",
    "\n"
   ]
  },
  {
   "cell_type": "code",
   "execution_count": null,
   "id": "95688743",
   "metadata": {},
   "outputs": [],
   "source": []
  }
 ],
 "metadata": {
  "colab": {
   "collapsed_sections": [
    "ChsQvGnS96Zl",
    "DBAw4hyiUyCA",
    "D-FLkm79e0_S",
    "8xiCnWmUh17e",
    "Qq5Ld3Z_lNP2",
    "pT7jwj_Ers-r",
    "Uk2THbHgtiU4",
    "BJLfZXI0xQzM",
    "cUkk9mol3MMS",
    "0_JtJqrg5LGC",
    "aGqUXbBs6YJL"
   ],
   "provenance": [],
   "toc_visible": true
  },
  "kernelspec": {
   "display_name": "Python 3 (ipykernel)",
   "language": "python",
   "name": "python3"
  },
  "language_info": {
   "codemirror_mode": {
    "name": "ipython",
    "version": 3
   },
   "file_extension": ".py",
   "mimetype": "text/x-python",
   "name": "python",
   "nbconvert_exporter": "python",
   "pygments_lexer": "ipython3",
   "version": "3.9.13"
  }
 },
 "nbformat": 4,
 "nbformat_minor": 5
}
