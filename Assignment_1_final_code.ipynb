{
  "cells": [
    {
      "cell_type": "markdown",
      "source": [
        "# Document Details and imports\n",
        "\n",
        "\n",
        " "
      ],
      "metadata": {
        "id": "ChsQvGnS96Zl"
      },
      "id": "ChsQvGnS96Zl"
    },
    {
      "cell_type": "markdown",
      "source": [
        "\n",
        "```\n",
        "**CREATED BY - Razia patel\n",
        "Date-14 feb23\n",
        "CODE related to - Assignment1 based on statistical concepts related to datascience.**\n",
        "version 1.0\n",
        "\n",
        "```"
      ],
      "metadata": {
        "id": "G9dptd3TCZXu"
      },
      "id": "G9dptd3TCZXu"
    },
    {
      "cell_type": "code",
      "source": [
        "#import the libraries\n",
        "import pandas as pd\n",
        "from scipy import stats\n",
        "from scipy.stats import norm\n",
        "from scipy.stats import t\n",
        "import seaborn as sns"
      ],
      "metadata": {
        "id": "t6_T-3ChlwWf"
      },
      "id": "t6_T-3ChlwWf",
      "execution_count": null,
      "outputs": []
    },
    {
      "cell_type": "markdown",
      "source": [
        "# Q7)\n",
        "Q7) Calculate Mean, Median, Mode, Variance, Standard Deviation, Range &     comment about the values / draw inferences, for the given dataset –For Points,Score,Weight>\n",
        "Find Mean, Median, Mode, Variance, Standard Deviation, and Range and also Comment about the values/ Draw some inferences.\n"
      ],
      "metadata": {
        "id": "DBAw4hyiUyCA"
      },
      "id": "DBAw4hyiUyCA"
    },
    {
      "cell_type": "code",
      "execution_count": null,
      "id": "1ceab203",
      "metadata": {
        "colab": {
          "base_uri": "https://localhost:8080/",
          "height": 300
        },
        "id": "1ceab203",
        "outputId": "5319c9a6-e7c2-4be6-8378-3099c2e06731"
      },
      "outputs": [
        {
          "output_type": "execute_result",
          "data": {
            "text/plain": [
              "          Points      Score      Weigh\n",
              "count  32.000000  32.000000  32.000000\n",
              "mean    3.596563   3.217250  17.848750\n",
              "std     0.534679   0.978457   1.786943\n",
              "min     2.760000   1.513000  14.500000\n",
              "25%     3.080000   2.581250  16.892500\n",
              "50%     3.695000   3.325000  17.710000\n",
              "75%     3.920000   3.610000  18.900000\n",
              "max     4.930000   5.424000  22.900000"
            ],
            "text/html": [
              "\n",
              "  <div id=\"df-bda5d5ed-f6b4-41d8-a0da-bd368ef74607\">\n",
              "    <div class=\"colab-df-container\">\n",
              "      <div>\n",
              "<style scoped>\n",
              "    .dataframe tbody tr th:only-of-type {\n",
              "        vertical-align: middle;\n",
              "    }\n",
              "\n",
              "    .dataframe tbody tr th {\n",
              "        vertical-align: top;\n",
              "    }\n",
              "\n",
              "    .dataframe thead th {\n",
              "        text-align: right;\n",
              "    }\n",
              "</style>\n",
              "<table border=\"1\" class=\"dataframe\">\n",
              "  <thead>\n",
              "    <tr style=\"text-align: right;\">\n",
              "      <th></th>\n",
              "      <th>Points</th>\n",
              "      <th>Score</th>\n",
              "      <th>Weigh</th>\n",
              "    </tr>\n",
              "  </thead>\n",
              "  <tbody>\n",
              "    <tr>\n",
              "      <th>count</th>\n",
              "      <td>32.000000</td>\n",
              "      <td>32.000000</td>\n",
              "      <td>32.000000</td>\n",
              "    </tr>\n",
              "    <tr>\n",
              "      <th>mean</th>\n",
              "      <td>3.596563</td>\n",
              "      <td>3.217250</td>\n",
              "      <td>17.848750</td>\n",
              "    </tr>\n",
              "    <tr>\n",
              "      <th>std</th>\n",
              "      <td>0.534679</td>\n",
              "      <td>0.978457</td>\n",
              "      <td>1.786943</td>\n",
              "    </tr>\n",
              "    <tr>\n",
              "      <th>min</th>\n",
              "      <td>2.760000</td>\n",
              "      <td>1.513000</td>\n",
              "      <td>14.500000</td>\n",
              "    </tr>\n",
              "    <tr>\n",
              "      <th>25%</th>\n",
              "      <td>3.080000</td>\n",
              "      <td>2.581250</td>\n",
              "      <td>16.892500</td>\n",
              "    </tr>\n",
              "    <tr>\n",
              "      <th>50%</th>\n",
              "      <td>3.695000</td>\n",
              "      <td>3.325000</td>\n",
              "      <td>17.710000</td>\n",
              "    </tr>\n",
              "    <tr>\n",
              "      <th>75%</th>\n",
              "      <td>3.920000</td>\n",
              "      <td>3.610000</td>\n",
              "      <td>18.900000</td>\n",
              "    </tr>\n",
              "    <tr>\n",
              "      <th>max</th>\n",
              "      <td>4.930000</td>\n",
              "      <td>5.424000</td>\n",
              "      <td>22.900000</td>\n",
              "    </tr>\n",
              "  </tbody>\n",
              "</table>\n",
              "</div>\n",
              "      <button class=\"colab-df-convert\" onclick=\"convertToInteractive('df-bda5d5ed-f6b4-41d8-a0da-bd368ef74607')\"\n",
              "              title=\"Convert this dataframe to an interactive table.\"\n",
              "              style=\"display:none;\">\n",
              "        \n",
              "  <svg xmlns=\"http://www.w3.org/2000/svg\" height=\"24px\"viewBox=\"0 0 24 24\"\n",
              "       width=\"24px\">\n",
              "    <path d=\"M0 0h24v24H0V0z\" fill=\"none\"/>\n",
              "    <path d=\"M18.56 5.44l.94 2.06.94-2.06 2.06-.94-2.06-.94-.94-2.06-.94 2.06-2.06.94zm-11 1L8.5 8.5l.94-2.06 2.06-.94-2.06-.94L8.5 2.5l-.94 2.06-2.06.94zm10 10l.94 2.06.94-2.06 2.06-.94-2.06-.94-.94-2.06-.94 2.06-2.06.94z\"/><path d=\"M17.41 7.96l-1.37-1.37c-.4-.4-.92-.59-1.43-.59-.52 0-1.04.2-1.43.59L10.3 9.45l-7.72 7.72c-.78.78-.78 2.05 0 2.83L4 21.41c.39.39.9.59 1.41.59.51 0 1.02-.2 1.41-.59l7.78-7.78 2.81-2.81c.8-.78.8-2.07 0-2.86zM5.41 20L4 18.59l7.72-7.72 1.47 1.35L5.41 20z\"/>\n",
              "  </svg>\n",
              "      </button>\n",
              "      \n",
              "  <style>\n",
              "    .colab-df-container {\n",
              "      display:flex;\n",
              "      flex-wrap:wrap;\n",
              "      gap: 12px;\n",
              "    }\n",
              "\n",
              "    .colab-df-convert {\n",
              "      background-color: #E8F0FE;\n",
              "      border: none;\n",
              "      border-radius: 50%;\n",
              "      cursor: pointer;\n",
              "      display: none;\n",
              "      fill: #1967D2;\n",
              "      height: 32px;\n",
              "      padding: 0 0 0 0;\n",
              "      width: 32px;\n",
              "    }\n",
              "\n",
              "    .colab-df-convert:hover {\n",
              "      background-color: #E2EBFA;\n",
              "      box-shadow: 0px 1px 2px rgba(60, 64, 67, 0.3), 0px 1px 3px 1px rgba(60, 64, 67, 0.15);\n",
              "      fill: #174EA6;\n",
              "    }\n",
              "\n",
              "    [theme=dark] .colab-df-convert {\n",
              "      background-color: #3B4455;\n",
              "      fill: #D2E3FC;\n",
              "    }\n",
              "\n",
              "    [theme=dark] .colab-df-convert:hover {\n",
              "      background-color: #434B5C;\n",
              "      box-shadow: 0px 1px 3px 1px rgba(0, 0, 0, 0.15);\n",
              "      filter: drop-shadow(0px 1px 2px rgba(0, 0, 0, 0.3));\n",
              "      fill: #FFFFFF;\n",
              "    }\n",
              "  </style>\n",
              "\n",
              "      <script>\n",
              "        const buttonEl =\n",
              "          document.querySelector('#df-bda5d5ed-f6b4-41d8-a0da-bd368ef74607 button.colab-df-convert');\n",
              "        buttonEl.style.display =\n",
              "          google.colab.kernel.accessAllowed ? 'block' : 'none';\n",
              "\n",
              "        async function convertToInteractive(key) {\n",
              "          const element = document.querySelector('#df-bda5d5ed-f6b4-41d8-a0da-bd368ef74607');\n",
              "          const dataTable =\n",
              "            await google.colab.kernel.invokeFunction('convertToInteractive',\n",
              "                                                     [key], {});\n",
              "          if (!dataTable) return;\n",
              "\n",
              "          const docLinkHtml = 'Like what you see? Visit the ' +\n",
              "            '<a target=\"_blank\" href=https://colab.research.google.com/notebooks/data_table.ipynb>data table notebook</a>'\n",
              "            + ' to learn more about interactive tables.';\n",
              "          element.innerHTML = '';\n",
              "          dataTable['output_type'] = 'display_data';\n",
              "          await google.colab.output.renderOutput(dataTable, element);\n",
              "          const docLink = document.createElement('div');\n",
              "          docLink.innerHTML = docLinkHtml;\n",
              "          element.appendChild(docLink);\n",
              "        }\n",
              "      </script>\n",
              "    </div>\n",
              "  </div>\n",
              "  "
            ]
          },
          "metadata": {},
          "execution_count": 2
        }
      ],
      "source": [
        "\n",
        "df_Q7 = pd.read_csv('Q7.csv')\n",
        "\n",
        "df_Q7.describe()"
      ]
    },
    {
      "cell_type": "markdown",
      "source": [
        " **Inference**\n",
        "1.   The mean ,median and mode have approximately equal values.  \n",
        "2.   since the mean,median and mode for  point,score and weight all three variables are approximately equal hence they show symmetrical frequency curve symmetrical distribution of data.\n",
        "1.   There are no outliers in this data.\n",
        "2.   Since the standard deviation value is low hence the spread is small.All the values are near the mean value"
      ],
      "metadata": {
        "id": "nbMf-JX7djW5"
      },
      "id": "nbMf-JX7djW5"
    },
    {
      "cell_type": "markdown",
      "source": [
        "# Q8)\n",
        "Q8) Calculate Expected Value for the problem below\n",
        "a)\tThe weights (X) of patients at a clinic (in pounds), are\n",
        "108, 110, 123, 134, 135, 145, 167, 187, 199\n",
        "Assume one of the patients is chosen at random. What is the Expected Value of the Weight of that patient?\n"
      ],
      "metadata": {
        "id": "D-FLkm79e0_S"
      },
      "id": "D-FLkm79e0_S"
    },
    {
      "cell_type": "code",
      "source": [
        "Weight=[108, 110, 123, 134, 135, 145, 167, 187, 199]\n",
        "dfWeight=pd.DataFrame(Weight)\n",
        "dfWeight.mean()"
      ],
      "metadata": {
        "colab": {
          "base_uri": "https://localhost:8080/"
        },
        "id": "19DP2RxcgX_Y",
        "outputId": "cd2baaf7-a76a-41d1-b26e-3bdd8b849811"
      },
      "id": "19DP2RxcgX_Y",
      "execution_count": null,
      "outputs": [
        {
          "output_type": "execute_result",
          "data": {
            "text/plain": [
              "0    145.333333\n",
              "dtype: float64"
            ]
          },
          "metadata": {},
          "execution_count": 3
        }
      ]
    },
    {
      "cell_type": "markdown",
      "source": [
        "**Expected Value =145.333333**"
      ],
      "metadata": {
        "id": "2a_kolJ6hIWG"
      },
      "id": "2a_kolJ6hIWG"
    },
    {
      "cell_type": "markdown",
      "source": [
        "#Q9) \n",
        "Q9) Calculate Skewness, Kurtosis & draw inferences on the following data\n",
        "      Cars speed and distance \n",
        "\n"
      ],
      "metadata": {
        "id": "8xiCnWmUh17e"
      },
      "id": "8xiCnWmUh17e"
    },
    {
      "cell_type": "code",
      "source": [
        "dfCars=pd.read_csv('Q9_a.csv')\n",
        "print('=====Distance skewness and kurtosis =====')\n",
        "print(dfCars['dist'].skew())\n",
        "print(dfCars['dist'].kurt())\n",
        "\n",
        "print('======Distance skewness and kurtosis =====')\n",
        "print(dfCars['speed'].skew())\n",
        "print(dfCars['speed'].kurt())"
      ],
      "metadata": {
        "colab": {
          "base_uri": "https://localhost:8080/"
        },
        "id": "slHUqSGCiAMj",
        "outputId": "dcc22269-7947-4714-f1da-450641ff04b3"
      },
      "id": "slHUqSGCiAMj",
      "execution_count": null,
      "outputs": [
        {
          "output_type": "stream",
          "name": "stdout",
          "text": [
            "=====Distance skewness and kurtosis =====\n",
            "0.8068949601674215\n",
            "0.4050525816795765\n",
            "======Distance skewness and kurtosis =====\n",
            "-0.11750986144663393\n",
            "-0.5089944204057617\n"
          ]
        }
      ]
    },
    {
      "cell_type": "markdown",
      "source": [
        "**Inference for distance 3rd and 4 th moments**\n",
        "Since the skewness is positive number hence this is right skewed with a value of skewness = 0.80689\n",
        "Kurtosis is the measure of tailedness it also is a positive value = 0.4050 the graph will be show right tailedness with a value = 0.4050 \n",
        " **Inference for speed 3rd and 4 th**\n",
        "Since the skewness and kurtosis values are –ve  number hence this is slightly left skewed with a slight left tailedness .But since the values are -0.5 and -0.11 ,by convention we can consider this to be a normally distributed data following the bell curve.\n"
      ],
      "metadata": {
        "id": "cQM05osUj6TF"
      },
      "id": "cQM05osUj6TF"
    },
    {
      "cell_type": "markdown",
      "source": [
        "#Q11) \n",
        "Q11)  Suppose we want to estimate the average weight of an adult male in    Mexico. We draw a random sample of 2,000 men from a population of 3,000,000 men and weigh them. We find that the average person in our sample weighs 200 pounds, and the standard deviation of the sample is 30 pounds. Calculate 94%,98%,96% confidence interval?"
      ],
      "metadata": {
        "id": "Qq5Ld3Z_lNP2"
      },
      "id": "Qq5Ld3Z_lNP2"
    },
    {
      "cell_type": "code",
      "source": [
        "# n= 2000, population size = 3000000 , sample mean =200 ,std dev= 30 ,100 -94 = 6% ,significance value = 3%\n",
        "print('lower limit of class interval for  94 %')\n",
        "print(stats.norm.ppf(0.03,200,30))\n",
        "print('upper limit of class interval')\n",
        "print(stats.norm.ppf(0.94,200,30))\n"
      ],
      "metadata": {
        "colab": {
          "base_uri": "https://localhost:8080/"
        },
        "id": "pZ6PZo0ElQUf",
        "outputId": "5c05bed2-7a8e-48e9-b36d-75058e9d8b30"
      },
      "id": "pZ6PZo0ElQUf",
      "execution_count": null,
      "outputs": [
        {
          "output_type": "stream",
          "name": "stdout",
          "text": [
            "lower limit of class interval for  94 %\n",
            "143.57619175546247\n",
            "upper limit of class interval\n",
            "246.6432078379056\n"
          ]
        }
      ]
    },
    {
      "cell_type": "code",
      "source": [
        "print('lower limit of class interval for  98 %')\n",
        "print(stats.norm.ppf(0.01,200,30))\n",
        "print('upper limit of class interval')\n",
        "print(stats.norm.ppf(0.98,200,30))"
      ],
      "metadata": {
        "colab": {
          "base_uri": "https://localhost:8080/"
        },
        "id": "w4mYgn-5qQ4r",
        "outputId": "11552e57-9d33-4aa4-c672-20ea9d882016"
      },
      "id": "w4mYgn-5qQ4r",
      "execution_count": null,
      "outputs": [
        {
          "output_type": "stream",
          "name": "stdout",
          "text": [
            "lower limit of class interval for  98 %\n",
            "130.2095637787748\n",
            "upper limit of class interval\n",
            "261.61246731895466\n"
          ]
        }
      ]
    },
    {
      "cell_type": "markdown",
      "source": [],
      "metadata": {
        "id": "TxmXt1AisLGl"
      },
      "id": "TxmXt1AisLGl"
    },
    {
      "cell_type": "code",
      "source": [
        "print('lower limit of class interval for  96 %')\n",
        "print(stats.norm.ppf(0.02,200,30))\n",
        "print('upper limit of class interval')\n",
        "print(stats.norm.ppf(0.98,200,30))"
      ],
      "metadata": {
        "colab": {
          "base_uri": "https://localhost:8080/"
        },
        "id": "ZurbGOIFq6Uz",
        "outputId": "aff4adc7-1586-4be9-9c68-a0ee38384483"
      },
      "id": "ZurbGOIFq6Uz",
      "execution_count": null,
      "outputs": [
        {
          "output_type": "stream",
          "name": "stdout",
          "text": [
            "lower limit of class interval for  96 %\n",
            "138.38753268104531\n",
            "upper limit of class interval\n",
            "261.61246731895466\n"
          ]
        }
      ]
    },
    {
      "cell_type": "markdown",
      "source": [
        "# Q12) \n",
        "Q12)  Below are the scores obtained by a student in tests \n",
        "        34,36,36,38,38,39,39,40,40,41,41,41,41,42,42,45,49,56\n",
        "1)\tFind mean, median, variance, standard deviation.\n",
        "2)\tWhat can we say about the student marks? \n"
      ],
      "metadata": {
        "id": "pT7jwj_Ers-r"
      },
      "id": "pT7jwj_Ers-r"
    },
    {
      "cell_type": "code",
      "source": [
        "dfScores= pd.DataFrame([34,36,36,38,38,39,39,40,40,41,41,41,41,42,42,45,49,56 ])\n",
        "dfScores.describe()"
      ],
      "metadata": {
        "colab": {
          "base_uri": "https://localhost:8080/",
          "height": 300
        },
        "id": "WH9t_un0rsAb",
        "outputId": "cf17782f-1cff-464d-d146-fdfbc6c0d66c"
      },
      "id": "WH9t_un0rsAb",
      "execution_count": null,
      "outputs": [
        {
          "output_type": "execute_result",
          "data": {
            "text/plain": [
              "               0\n",
              "count  18.000000\n",
              "mean   41.000000\n",
              "std     5.052664\n",
              "min    34.000000\n",
              "25%    38.250000\n",
              "50%    40.500000\n",
              "75%    41.750000\n",
              "max    56.000000"
            ],
            "text/html": [
              "\n",
              "  <div id=\"df-946f7a01-a833-4b09-8b2e-aee54cd2d7b2\">\n",
              "    <div class=\"colab-df-container\">\n",
              "      <div>\n",
              "<style scoped>\n",
              "    .dataframe tbody tr th:only-of-type {\n",
              "        vertical-align: middle;\n",
              "    }\n",
              "\n",
              "    .dataframe tbody tr th {\n",
              "        vertical-align: top;\n",
              "    }\n",
              "\n",
              "    .dataframe thead th {\n",
              "        text-align: right;\n",
              "    }\n",
              "</style>\n",
              "<table border=\"1\" class=\"dataframe\">\n",
              "  <thead>\n",
              "    <tr style=\"text-align: right;\">\n",
              "      <th></th>\n",
              "      <th>0</th>\n",
              "    </tr>\n",
              "  </thead>\n",
              "  <tbody>\n",
              "    <tr>\n",
              "      <th>count</th>\n",
              "      <td>18.000000</td>\n",
              "    </tr>\n",
              "    <tr>\n",
              "      <th>mean</th>\n",
              "      <td>41.000000</td>\n",
              "    </tr>\n",
              "    <tr>\n",
              "      <th>std</th>\n",
              "      <td>5.052664</td>\n",
              "    </tr>\n",
              "    <tr>\n",
              "      <th>min</th>\n",
              "      <td>34.000000</td>\n",
              "    </tr>\n",
              "    <tr>\n",
              "      <th>25%</th>\n",
              "      <td>38.250000</td>\n",
              "    </tr>\n",
              "    <tr>\n",
              "      <th>50%</th>\n",
              "      <td>40.500000</td>\n",
              "    </tr>\n",
              "    <tr>\n",
              "      <th>75%</th>\n",
              "      <td>41.750000</td>\n",
              "    </tr>\n",
              "    <tr>\n",
              "      <th>max</th>\n",
              "      <td>56.000000</td>\n",
              "    </tr>\n",
              "  </tbody>\n",
              "</table>\n",
              "</div>\n",
              "      <button class=\"colab-df-convert\" onclick=\"convertToInteractive('df-946f7a01-a833-4b09-8b2e-aee54cd2d7b2')\"\n",
              "              title=\"Convert this dataframe to an interactive table.\"\n",
              "              style=\"display:none;\">\n",
              "        \n",
              "  <svg xmlns=\"http://www.w3.org/2000/svg\" height=\"24px\"viewBox=\"0 0 24 24\"\n",
              "       width=\"24px\">\n",
              "    <path d=\"M0 0h24v24H0V0z\" fill=\"none\"/>\n",
              "    <path d=\"M18.56 5.44l.94 2.06.94-2.06 2.06-.94-2.06-.94-.94-2.06-.94 2.06-2.06.94zm-11 1L8.5 8.5l.94-2.06 2.06-.94-2.06-.94L8.5 2.5l-.94 2.06-2.06.94zm10 10l.94 2.06.94-2.06 2.06-.94-2.06-.94-.94-2.06-.94 2.06-2.06.94z\"/><path d=\"M17.41 7.96l-1.37-1.37c-.4-.4-.92-.59-1.43-.59-.52 0-1.04.2-1.43.59L10.3 9.45l-7.72 7.72c-.78.78-.78 2.05 0 2.83L4 21.41c.39.39.9.59 1.41.59.51 0 1.02-.2 1.41-.59l7.78-7.78 2.81-2.81c.8-.78.8-2.07 0-2.86zM5.41 20L4 18.59l7.72-7.72 1.47 1.35L5.41 20z\"/>\n",
              "  </svg>\n",
              "      </button>\n",
              "      \n",
              "  <style>\n",
              "    .colab-df-container {\n",
              "      display:flex;\n",
              "      flex-wrap:wrap;\n",
              "      gap: 12px;\n",
              "    }\n",
              "\n",
              "    .colab-df-convert {\n",
              "      background-color: #E8F0FE;\n",
              "      border: none;\n",
              "      border-radius: 50%;\n",
              "      cursor: pointer;\n",
              "      display: none;\n",
              "      fill: #1967D2;\n",
              "      height: 32px;\n",
              "      padding: 0 0 0 0;\n",
              "      width: 32px;\n",
              "    }\n",
              "\n",
              "    .colab-df-convert:hover {\n",
              "      background-color: #E2EBFA;\n",
              "      box-shadow: 0px 1px 2px rgba(60, 64, 67, 0.3), 0px 1px 3px 1px rgba(60, 64, 67, 0.15);\n",
              "      fill: #174EA6;\n",
              "    }\n",
              "\n",
              "    [theme=dark] .colab-df-convert {\n",
              "      background-color: #3B4455;\n",
              "      fill: #D2E3FC;\n",
              "    }\n",
              "\n",
              "    [theme=dark] .colab-df-convert:hover {\n",
              "      background-color: #434B5C;\n",
              "      box-shadow: 0px 1px 3px 1px rgba(0, 0, 0, 0.15);\n",
              "      filter: drop-shadow(0px 1px 2px rgba(0, 0, 0, 0.3));\n",
              "      fill: #FFFFFF;\n",
              "    }\n",
              "  </style>\n",
              "\n",
              "      <script>\n",
              "        const buttonEl =\n",
              "          document.querySelector('#df-946f7a01-a833-4b09-8b2e-aee54cd2d7b2 button.colab-df-convert');\n",
              "        buttonEl.style.display =\n",
              "          google.colab.kernel.accessAllowed ? 'block' : 'none';\n",
              "\n",
              "        async function convertToInteractive(key) {\n",
              "          const element = document.querySelector('#df-946f7a01-a833-4b09-8b2e-aee54cd2d7b2');\n",
              "          const dataTable =\n",
              "            await google.colab.kernel.invokeFunction('convertToInteractive',\n",
              "                                                     [key], {});\n",
              "          if (!dataTable) return;\n",
              "\n",
              "          const docLinkHtml = 'Like what you see? Visit the ' +\n",
              "            '<a target=\"_blank\" href=https://colab.research.google.com/notebooks/data_table.ipynb>data table notebook</a>'\n",
              "            + ' to learn more about interactive tables.';\n",
              "          element.innerHTML = '';\n",
              "          dataTable['output_type'] = 'display_data';\n",
              "          await google.colab.output.renderOutput(dataTable, element);\n",
              "          const docLink = document.createElement('div');\n",
              "          docLink.innerHTML = docLinkHtml;\n",
              "          element.appendChild(docLink);\n",
              "        }\n",
              "      </script>\n",
              "    </div>\n",
              "  </div>\n",
              "  "
            ]
          },
          "metadata": {},
          "execution_count": 8
        }
      ]
    },
    {
      "cell_type": "markdown",
      "source": [
        "**INFERENCE**\n",
        "Ans2)Mean ,Median and Mode have same values hence the data is distributed symmentrically and there are no outliers.Hence this represents a Gaussian curve.\n",
        "Accordig to Empirical rule 68 % people fall in the one std deviation  which is (41-5.0526 ) = 35.9474 to (41 +5.0526)=46.0526\n",
        "95% people fall in the second std deviation which is (41-2*5.0526) =30.8948 to (41+2*5.0526) = 51.10526\n",
        "99.5% people fall is the third std deviation which is ( 41-3*5.0526)= 25.8422 to (41+3*5.0526)=56.1578\n"
      ],
      "metadata": {
        "id": "gc5N2QsOswo8"
      },
      "id": "gc5N2QsOswo8"
    },
    {
      "cell_type": "markdown",
      "source": [
        "# Q 20)\n",
        " Q 20)  Calculate probability from the given dataset for the below cases\n",
        "\n",
        "Data _set: Cars.csv\n",
        "Calculate the probability of MPG  of Cars for the below cases.\n",
        "       MPG <- Cars$MPG\n",
        "a.\tP(MPG>38)\n",
        "b.\tP(MPG<40)\n",
        "c.\tP (20<MPG<50)\n"
      ],
      "metadata": {
        "id": "Uk2THbHgtiU4"
      },
      "id": "Uk2THbHgtiU4"
    },
    {
      "cell_type": "code",
      "source": [
        "dfCar= pd.read_csv('Cars.csv')\n",
        "MPGmorethan38=1-stats.norm.cdf(38,dfCar['MPG'].mean(),dfCar['MPG'].std())\n",
        "print('======P(MPG>38)========')\n",
        "print(MPGmorethan38)\n",
        "\n",
        "MPGlessthan40 = stats.norm.cdf(40,dfCar['MPG'].mean(),dfCar['MPG'].std())\n",
        "print('======P(MPG<40)========')\n",
        "print(MPGlessthan40)\n",
        "MPGbet20n50=stats.norm.cdf(50,dfCar['MPG'].mean(),dfCar['MPG'].std())-stats.norm.cdf(20,dfCar['MPG'].mean(),dfCar['MPG'].std())\n",
        "print('=====(20<MPG<50)======')\n",
        "print(MPGbet20n50)"
      ],
      "metadata": {
        "colab": {
          "base_uri": "https://localhost:8080/"
        },
        "id": "SzeQIDYmtpoH",
        "outputId": "01707a9f-a249-4d24-9b6b-79452d080fba"
      },
      "id": "SzeQIDYmtpoH",
      "execution_count": null,
      "outputs": [
        {
          "output_type": "stream",
          "name": "stdout",
          "text": [
            "======P(MPG>38)========\n",
            "0.34759392515827137\n",
            "======P(MPG<40)========\n",
            "0.7293498762151609\n",
            "=====(20<MPG<50)======\n",
            "0.8988689169682047\n"
          ]
        }
      ]
    },
    {
      "cell_type": "markdown",
      "source": [
        "#  Q 21 \n",
        "Q 21) Check whether the data follows normal distribution\n",
        "a)\tCheck whether the MPG of Cars follows Normal Distribution \n",
        "        Dataset: Cars.csv  \n"
      ],
      "metadata": {
        "id": "BJLfZXI0xQzM"
      },
      "id": "BJLfZXI0xQzM"
    },
    {
      "cell_type": "code",
      "source": [
        "\n",
        "print('====mean===')\n",
        "print(dfCar['MPG'].mean())\n",
        "print('====median===')\n",
        "print(dfCar['MPG'].median())\n",
        "sns.distplot(dfCar.MPG,label='CARS - MPG',color='green')"
      ],
      "metadata": {
        "colab": {
          "base_uri": "https://localhost:8080/",
          "height": 420
        },
        "id": "ITcFEtvSxRsd",
        "outputId": "b94c8431-fd9b-4ecf-ea59-ade4d848434f"
      },
      "id": "ITcFEtvSxRsd",
      "execution_count": null,
      "outputs": [
        {
          "output_type": "stream",
          "name": "stdout",
          "text": [
            "====mean===\n",
            "34.42207572802469\n",
            "====median===\n",
            "35.15272697\n"
          ]
        },
        {
          "output_type": "stream",
          "name": "stderr",
          "text": [
            "/usr/local/lib/python3.8/dist-packages/seaborn/distributions.py:2619: FutureWarning: `distplot` is a deprecated function and will be removed in a future version. Please adapt your code to use either `displot` (a figure-level function with similar flexibility) or `histplot` (an axes-level function for histograms).\n",
            "  warnings.warn(msg, FutureWarning)\n"
          ]
        },
        {
          "output_type": "execute_result",
          "data": {
            "text/plain": [
              "<matplotlib.axes._subplots.AxesSubplot at 0x7f7e8c4b1460>"
            ]
          },
          "metadata": {},
          "execution_count": 15
        },
        {
          "output_type": "display_data",
          "data": {
            "text/plain": [
              "<Figure size 432x288 with 1 Axes>"
            ],
            "image/png": "[encoded data removed]"
          },
          "metadata": {
            "needs_background": "light"
          }
        }
      ]
    },
    {
      "cell_type": "markdown",
      "source": [
        " **Inference** SINCE MEAN AND MEDIAN are approximately equal hence distribution can be said as normal distribution"
      ],
      "metadata": {
        "id": "-kH8sWPixmAC"
      },
      "id": "-kH8sWPixmAC"
    },
    {
      "cell_type": "markdown",
      "source": [
        "b)\tCheck Whether the Adipose Tissue (AT) and Waist Circumference(Waist)  from wc-at data set  follows Normal Distribution \n",
        "       Dataset: wc-at.csv\n"
      ],
      "metadata": {
        "id": "BbQzvN4mzqZm"
      },
      "id": "BbQzvN4mzqZm"
    },
    {
      "cell_type": "code",
      "source": [
        "dfAT = pd.read_csv('wc-at.csv')\n",
        "#print(dfAT.describe())\n",
        "print('=======Waist=========')\n",
        "sns.distplot(dfAT.Waist,label='WAIST',color='red')\n",
        "print(dfAT.Waist.mean())\n",
        "print(dfAT.Waist.median())\n",
        "\n",
        "print('=======AT=========')\n",
        "sns.distplot(dfAT.AT,label='WAIST',color='BLUE')\n",
        "print(dfAT.AT.mean())\n",
        "print(dfAT.AT.median())"
      ],
      "metadata": {
        "colab": {
          "base_uri": "https://localhost:8080/",
          "height": 476
        },
        "id": "amdUEk3JzycE",
        "outputId": "3b00fa8a-37fa-4d82-b2e2-74858981c638"
      },
      "id": "amdUEk3JzycE",
      "execution_count": null,
      "outputs": [
        {
          "output_type": "stream",
          "name": "stdout",
          "text": [
            "=======Waist=========\n",
            "91.90183486238531\n",
            "90.8\n",
            "=======AT=========\n",
            "101.89403669724771\n",
            "96.54\n"
          ]
        },
        {
          "output_type": "stream",
          "name": "stderr",
          "text": [
            "/usr/local/lib/python3.8/dist-packages/seaborn/distributions.py:2619: FutureWarning: `distplot` is a deprecated function and will be removed in a future version. Please adapt your code to use either `displot` (a figure-level function with similar flexibility) or `histplot` (an axes-level function for histograms).\n",
            "  warnings.warn(msg, FutureWarning)\n",
            "/usr/local/lib/python3.8/dist-packages/seaborn/distributions.py:2619: FutureWarning: `distplot` is a deprecated function and will be removed in a future version. Please adapt your code to use either `displot` (a figure-level function with similar flexibility) or `histplot` (an axes-level function for histograms).\n",
            "  warnings.warn(msg, FutureWarning)\n"
          ]
        },
        {
          "output_type": "display_data",
          "data": {
            "text/plain": [
              "<Figure size 432x288 with 1 Axes>"
            ],
            "image/png": "[encoded data removed]"
          },
          "metadata": {
            "needs_background": "light"
          }
        }
      ]
    },
    {
      "cell_type": "markdown",
      "source": [
        " **INFERENCE** THOUGH the mean and median show very similar values FOR BOTH waist and AT but the **distplot doesnot show a normal distribution** hence they do not follow normal "
      ],
      "metadata": {
        "id": "_HPtSUBA123K"
      },
      "id": "_HPtSUBA123K"
    },
    {
      "cell_type": "markdown",
      "source": [
        "# Q 22 \n",
        "Q 22)Calculate the Z scores of  90% confidence interval,94% confidence interval, 60% confidence interval \n",
        "\n"
      ],
      "metadata": {
        "id": "cUkk9mol3MMS"
      },
      "id": "cUkk9mol3MMS"
    },
    {
      "cell_type": "code",
      "source": [
        "# here we are considering that mean values is 0 ,std dev=1 sinc we need to find the z scores\n",
        "# for 90% the significant value will be 10/2 =5\n",
        "print(stats.norm.ppf(0.05))\n",
        "print(stats.norm.ppf(0.95))\n",
        "\n",
        "# for 94% the significant value will be 6/2 =3\n",
        "print(stats.norm.ppf(0.03))\n",
        "print(stats.norm.ppf(0.97))\n",
        "# for 60% the significant value will be 40/2 =20\n",
        "print(stats.norm.ppf(0.20))\n",
        "print(stats.norm.ppf(0.80))"
      ],
      "metadata": {
        "colab": {
          "base_uri": "https://localhost:8080/"
        },
        "id": "G5iupUkp3P5a",
        "outputId": "7813e59c-91bb-4e38-b968-63afc94ebea5"
      },
      "id": "G5iupUkp3P5a",
      "execution_count": null,
      "outputs": [
        {
          "output_type": "stream",
          "name": "stdout",
          "text": [
            "-1.6448536269514729\n",
            "1.6448536269514722\n",
            "-1.880793608151251\n",
            "1.8807936081512509\n",
            "-0.8416212335729142\n",
            "0.8416212335729143\n"
          ]
        }
      ]
    },
    {
      "cell_type": "markdown",
      "source": [
        "# Q 23\n",
        "Q 23) Calculate the t scores of 95% confidence interval, 96% confidence interval, 99% confidence interval for sample size of 25"
      ],
      "metadata": {
        "id": "0_JtJqrg5LGC"
      },
      "id": "0_JtJqrg5LGC"
    },
    {
      "cell_type": "code",
      "source": [
        " # for 95% the significant value will be 5/2 =2.5and df =n-1 = 25-1=24\n",
        "print(stats.t.ppf(0.025,24))\n",
        "print(stats.t.ppf(0.975,24))\n",
        "\n",
        "# for 96% the significant value will be 4/2 =2\n",
        "print(stats.t.ppf(0.02,24))\n",
        "print(stats.t.ppf(0.98,24))\n",
        "# for 99% the significant value will be 1/2 =.5\n",
        "print(stats.t.ppf(0.005,24))\n",
        "print(stats.t.ppf(0.995,24))"
      ],
      "metadata": {
        "colab": {
          "base_uri": "https://localhost:8080/"
        },
        "id": "6mR67d3d5NBK",
        "outputId": "15095554-070b-4e55-81c8-be54f3981c63"
      },
      "id": "6mR67d3d5NBK",
      "execution_count": null,
      "outputs": [
        {
          "output_type": "stream",
          "name": "stdout",
          "text": [
            "-2.063898561628021\n",
            "2.0638985616280205\n",
            "-2.171544676008068\n",
            "2.1715446760080677\n",
            "-2.796939504772805\n",
            "2.796939504772804\n"
          ]
        }
      ]
    },
    {
      "cell_type": "markdown",
      "source": [
        "# Q 24)\n",
        " Q 24)   A Government  company claims that an average light bulb lasts 270 days. A researcher randomly selects 18 bulbs for testing. The sampled bulbs last an average of 260 days, with a standard deviation of 90 days. If the CEO's claim were true, what is the probability that 18 randomly selected bulbs would have an average life of no more than 260 days\n",
        "Hint:  \n",
        "   rcode   pt(tscore,df)  \n",
        " df  degrees of freedom =n-1\n",
        "\n",
        "**population **mean =270, sample ** size n=18 ,sample average = 260 ,SD=90.\n",
        "Since the sample size is less than 30 hence we will use the t test.** \n"
      ],
      "metadata": {
        "id": "aGqUXbBs6YJL"
      },
      "id": "aGqUXbBs6YJL"
    },
    {
      "cell_type": "markdown",
      "source": [
        "**DEFINE NULL /ALTERNATIVE HYPOTHESIS** \n",
        "H0= the bulb lasts 270 days (u = 270), \n",
        "Ha= the bulb doesn’t last for 270 days (u less than 270)\n"
      ],
      "metadata": {
        "id": "HhP_dWkU9bUD"
      },
      "id": "HhP_dWkU9bUD"
    },
    {
      "cell_type": "code",
      "source": [
        "from scipy.stats.kde import sqrt\n",
        "SDpop=90*sqrt(18/17)\n",
        "#print(SDpop)\n",
        "SDAVG =SDpop/sqrt(18)\n",
        "#print(SDAVG)\n",
        "#(t statistics ) t= (AVERAGEsample-EVpop)/SD\n",
        "t=(260-270)/SDAVG\n",
        "#print(t)\n",
        "# to find (p(x < 260 for null hypothesis))\n",
        "pvalue=stats.t.cdf(t,17)\n",
        "print(pvalue)"
      ],
      "metadata": {
        "colab": {
          "base_uri": "https://localhost:8080/"
        },
        "id": "iAfqi67G6xpY",
        "outputId": "09796fd4-764b-4d93-9486-2b29d45bdfaf"
      },
      "id": "iAfqi67G6xpY",
      "execution_count": null,
      "outputs": [
        {
          "output_type": "stream",
          "name": "stdout",
          "text": [
            "0.3263329674774508\n"
          ]
        }
      ]
    },
    {
      "cell_type": "markdown",
      "source": [
        " **Inference** the pvalue = 32.63%\n",
        "Probability that 18 randomly selected bulbs would have an average life of no more than 260 days is 32.63%\n",
        "By conventions, If p_value < 5% ; Reject Ho and accept Ha or vice-versa)\n",
        "Here p-value > 5% ; we donot reject the Ho i.e. the avg life of bulb > 260  days .\n"
      ],
      "metadata": {
        "id": "DFPyjs2h9TpZ"
      },
      "id": "DFPyjs2h9TpZ"
    }
  ],
  "metadata": {
    "kernelspec": {
      "display_name": "Python 3 (ipykernel)",
      "language": "python",
      "name": "python3"
    },
    "language_info": {
      "codemirror_mode": {
        "name": "ipython",
        "version": 3
      },
      "file_extension": ".py",
      "mimetype": "text/x-python",
      "name": "python",
      "nbconvert_exporter": "python",
      "pygments_lexer": "ipython3",
      "version": "3.9.13"
    },
    "colab": {
      "provenance": [],
      "collapsed_sections": [
        "ChsQvGnS96Zl",
        "DBAw4hyiUyCA",
        "D-FLkm79e0_S",
        "8xiCnWmUh17e",
        "Qq5Ld3Z_lNP2",
        "pT7jwj_Ers-r",
        "Uk2THbHgtiU4",
        "BJLfZXI0xQzM",
        "cUkk9mol3MMS",
        "0_JtJqrg5LGC",
        "aGqUXbBs6YJL"
      ],
      "toc_visible": true
    }
  },
  "nbformat": 4,
  "nbformat_minor": 5
}