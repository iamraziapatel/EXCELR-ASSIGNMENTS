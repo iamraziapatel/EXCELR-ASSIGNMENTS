{
 "cells": [
  {
   "cell_type": "markdown",
   "id": "43bf1418",
   "metadata": {},
   "source": [
    "# ONE:\n",
    "1) Perform sentimental analysis on the Elon-musk tweets (Exlon-musk.csv)\n",
    "To perform sentiment analysis on Elon Musk's tweets using positive and negative word lists, as well as a stop word list"
   ]
  },
  {
   "cell_type": "code",
   "execution_count": 1,
   "id": "e8880c9f",
   "metadata": {},
   "outputs": [
    {
     "name": "stderr",
     "output_type": "stream",
     "text": [
      "[nltk_data] Downloading package punkt to\n",
      "[nltk_data]     C:\\Users\\HP\\AppData\\Roaming\\nltk_data...\n",
      "[nltk_data]   Unzipping tokenizers\\punkt.zip.\n"
     ]
    },
    {
     "data": {
      "text/plain": [
       "True"
      ]
     },
     "execution_count": 1,
     "metadata": {},
     "output_type": "execute_result"
    }
   ],
   "source": [
    "import pandas as pd\n",
    "import numpy as np\n",
    "import nltk\n",
    "from nltk.corpus import stopwords\n",
    "import nltk\n",
    "nltk.download('punkt')\n"
   ]
  },
  {
   "cell_type": "code",
   "execution_count": 2,
   "id": "b2bcf033",
   "metadata": {},
   "outputs": [
    {
     "data": {
      "text/plain": [
       "{'encoding': 'Windows-1252', 'confidence': 0.7298950869484879, 'language': ''}"
      ]
     },
     "execution_count": 2,
     "metadata": {},
     "output_type": "execute_result"
    }
   ],
   "source": [
    "import chardet\n",
    "\n",
    "# Determine the encoding of the CSV file\n",
    "with open('Elon_musk.csv', 'rb') as f:\n",
    "    result = chardet.detect(f.read())\n",
    "    \n",
    "# Read the CSV file with the detected encoding\n",
    "data = pd.read_csv('Elon_musk.csv', encoding=result['encoding'])\n",
    "result\n"
   ]
  },
  {
   "cell_type": "code",
   "execution_count": 3,
   "id": "d562e669",
   "metadata": {},
   "outputs": [
    {
     "data": {
      "text/html": [
       "<div>\n",
       "<style scoped>\n",
       "    .dataframe tbody tr th:only-of-type {\n",
       "        vertical-align: middle;\n",
       "    }\n",
       "\n",
       "    .dataframe tbody tr th {\n",
       "        vertical-align: top;\n",
       "    }\n",
       "\n",
       "    .dataframe thead th {\n",
       "        text-align: right;\n",
       "    }\n",
       "</style>\n",
       "<table border=\"1\" class=\"dataframe\">\n",
       "  <thead>\n",
       "    <tr style=\"text-align: right;\">\n",
       "      <th></th>\n",
       "      <th>Unnamed: 0</th>\n",
       "      <th>Text</th>\n",
       "    </tr>\n",
       "  </thead>\n",
       "  <tbody>\n",
       "    <tr>\n",
       "      <th>0</th>\n",
       "      <td>1</td>\n",
       "      <td>@kunalb11 I’m an alien</td>\n",
       "    </tr>\n",
       "    <tr>\n",
       "      <th>1</th>\n",
       "      <td>2</td>\n",
       "      <td>@ID_AA_Carmack Ray tracing on Cyberpunk with H...</td>\n",
       "    </tr>\n",
       "    <tr>\n",
       "      <th>2</th>\n",
       "      <td>3</td>\n",
       "      <td>@joerogan @Spotify Great interview!</td>\n",
       "    </tr>\n",
       "    <tr>\n",
       "      <th>3</th>\n",
       "      <td>4</td>\n",
       "      <td>@gtera27 Doge is underestimated</td>\n",
       "    </tr>\n",
       "    <tr>\n",
       "      <th>4</th>\n",
       "      <td>5</td>\n",
       "      <td>@teslacn Congratulations Tesla China for amazi...</td>\n",
       "    </tr>\n",
       "    <tr>\n",
       "      <th>...</th>\n",
       "      <td>...</td>\n",
       "      <td>...</td>\n",
       "    </tr>\n",
       "    <tr>\n",
       "      <th>1994</th>\n",
       "      <td>1995</td>\n",
       "      <td>@flcnhvy True, it sounds so surreal, but the n...</td>\n",
       "    </tr>\n",
       "    <tr>\n",
       "      <th>1995</th>\n",
       "      <td>1996</td>\n",
       "      <td>@PPathole Make sure to read ur terms &amp;amp; con...</td>\n",
       "    </tr>\n",
       "    <tr>\n",
       "      <th>1996</th>\n",
       "      <td>1997</td>\n",
       "      <td>@TeslaGong @PPathole Samwise Gamgee</td>\n",
       "    </tr>\n",
       "    <tr>\n",
       "      <th>1997</th>\n",
       "      <td>1998</td>\n",
       "      <td>@PPathole Altho Dumb and Dumber is &lt;U+0001F525...</td>\n",
       "    </tr>\n",
       "    <tr>\n",
       "      <th>1998</th>\n",
       "      <td>1999</td>\n",
       "      <td>Progress update August 28</td>\n",
       "    </tr>\n",
       "  </tbody>\n",
       "</table>\n",
       "<p>1999 rows × 2 columns</p>\n",
       "</div>"
      ],
      "text/plain": [
       "      Unnamed: 0                                               Text\n",
       "0              1                             @kunalb11 I’m an alien\n",
       "1              2  @ID_AA_Carmack Ray tracing on Cyberpunk with H...\n",
       "2              3                @joerogan @Spotify Great interview!\n",
       "3              4                    @gtera27 Doge is underestimated\n",
       "4              5  @teslacn Congratulations Tesla China for amazi...\n",
       "...          ...                                                ...\n",
       "1994        1995  @flcnhvy True, it sounds so surreal, but the n...\n",
       "1995        1996  @PPathole Make sure to read ur terms &amp; con...\n",
       "1996        1997                @TeslaGong @PPathole Samwise Gamgee\n",
       "1997        1998  @PPathole Altho Dumb and Dumber is <U+0001F525...\n",
       "1998        1999                          Progress update August 28\n",
       "\n",
       "[1999 rows x 2 columns]"
      ]
     },
     "execution_count": 3,
     "metadata": {},
     "output_type": "execute_result"
    }
   ],
   "source": [
    "data"
   ]
  },
  {
   "cell_type": "code",
   "execution_count": 4,
   "id": "23f45a6b",
   "metadata": {},
   "outputs": [
    {
     "data": {
      "text/plain": [
       "0                                  @kunalb11 i’m an alien\n",
       "1       @id_aa_carmack ray tracing on cyberpunk with h...\n",
       "2                     @joerogan @spotify great interview!\n",
       "3                         @gtera27 doge is underestimated\n",
       "4       @teslacn congratulations tesla china for amazi...\n",
       "                              ...                        \n",
       "1994    @flcnhvy true, it sounds so surreal, but the n...\n",
       "1995    @ppathole make sure to read ur terms &amp; con...\n",
       "1996                  @teslagong @ppathole samwise gamgee\n",
       "1997    @ppathole altho dumb and dumber is <u+0001f525...\n",
       "1998                            progress update august 28\n",
       "Name: Text, Length: 1997, dtype: object"
      ]
     },
     "execution_count": 4,
     "metadata": {},
     "output_type": "execute_result"
    }
   ],
   "source": [
    "import warnings\n",
    "warnings.filterwarnings('ignore')\n",
    "\n",
    "# Remove irrelevant columns\n",
    "data = data[['Text']]\n",
    "\n",
    "# Remove duplicate rows\n",
    "data.drop_duplicates(inplace=True)\n",
    "\n",
    "# Handle missing values\n",
    "data.dropna(inplace=True)\n",
    "\n",
    "# Convert text to lowercase\n",
    "data['Text'] = data['Text'].str.lower()\n",
    "data['Text']\n"
   ]
  },
  {
   "cell_type": "markdown",
   "id": "0bcb2c2d",
   "metadata": {},
   "source": [
    "# Load Positive and Negative  Stop Word Lists"
   ]
  },
  {
   "cell_type": "code",
   "execution_count": 5,
   "id": "bf892ea0",
   "metadata": {},
   "outputs": [],
   "source": [
    "with open('positive-words.txt', 'r') as f:\n",
    "    positive_words = f.read().splitlines()\n",
    "\n",
    "with open('negative-words.txt', 'r') as f:\n",
    "    negative_words = f.read().splitlines()\n",
    "\n",
    "stop_words_file = 'stop.txt'\n",
    "\n",
    "with open(stop_words_file, 'r') as f:\n",
    "    stop_words = set(f.read().splitlines())\n"
   ]
  },
  {
   "cell_type": "markdown",
   "id": "58221307",
   "metadata": {},
   "source": [
    "# Perform Sentiment Analysis: \n",
    "Iterate through each tweet and determine its sentiment based on the presence of positive and negative words. Remove stop words before analysis."
   ]
  },
  {
   "cell_type": "code",
   "execution_count": 6,
   "id": "fb326abc",
   "metadata": {},
   "outputs": [],
   "source": [
    "sentiment_scores = []\n",
    "\n",
    "for tweet in data['Text']:\n",
    "    positive_count = 0\n",
    "    negative_count = 0\n",
    "    \n",
    "    # Tokenize the tweet\n",
    "    words = nltk.word_tokenize(tweet)\n",
    "    \n",
    "    # Remove stop words\n",
    "    words = [word for word in words if word not in stop_words]\n",
    "    \n",
    "    # Count positive and negative words\n",
    "    for word in words:\n",
    "        if word in positive_words:\n",
    "            positive_count += 1\n",
    "        elif word in negative_words:\n",
    "            negative_count += 1\n",
    "    \n",
    "    # Determine sentiment based on the count of positive and negative words\n",
    "    if positive_count > negative_count:\n",
    "        sentiment_scores.append('positive')\n",
    "    elif positive_count < negative_count:\n",
    "        sentiment_scores.append('negative')\n",
    "    else:\n",
    "        sentiment_scores.append('neutral')\n",
    "\n",
    "data['sentiment'] = sentiment_scores\n"
   ]
  },
  {
   "cell_type": "code",
   "execution_count": 8,
   "id": "9e04b36c",
   "metadata": {},
   "outputs": [
    {
     "name": "stdout",
     "output_type": "stream",
     "text": [
      "*********************************\n",
      "neutral     1213\n",
      "positive     580\n",
      "negative     204\n",
      "Name: sentiment, dtype: int64\n",
      "\n",
      "*********************************\n",
      "neutral     60.741112\n",
      "positive    29.043565\n",
      "negative    10.215323\n",
      "Name: sentiment, dtype: float64\n"
     ]
    }
   ],
   "source": [
    "# Analyze the Results:\n",
    "# Count the number of positive, negative, and neutral tweets\n",
    "sentiment_counts = data['sentiment'].value_counts()\n",
    "\n",
    "# Calculate the percentage of each sentiment\n",
    "sentiment_percentages = sentiment_counts / sentiment_counts.sum() * 100\n",
    "print(\"*********************************\")\n",
    "print(sentiment_counts)\n",
    "print(\"\\n*********************************\")\n",
    "print(sentiment_percentages)\n"
   ]
  },
  {
   "cell_type": "markdown",
   "id": "8a9eaf0a",
   "metadata": {},
   "source": [
    "Analyze the Results:\n",
    "As per the above sentiment labelsthe insights we gain into the sentiment expressed in Elon Musk's tweets are as follows:\n",
    "out of the 1999 total tweets 1213 tweets show neutral sentiments , 580 are Positive sentiments and 204 show negative sentiments.\n",
    "\n",
    "approx \n",
    "60% of the total tweets show Neutral sentiments.\n",
    "29% show Positive sentiments \n",
    "10% show negative sentiments\n",
    "\n",
    "\n"
   ]
  }
 ],
 "metadata": {
  "kernelspec": {
   "display_name": "Python 3 (ipykernel)",
   "language": "python",
   "name": "python3"
  },
  "language_info": {
   "codemirror_mode": {
    "name": "ipython",
    "version": 3
   },
   "file_extension": ".py",
   "mimetype": "text/x-python",
   "name": "python",
   "nbconvert_exporter": "python",
   "pygments_lexer": "ipython3",
   "version": "3.9.13"
  }
 },
 "nbformat": 4,
 "nbformat_minor": 5
}
