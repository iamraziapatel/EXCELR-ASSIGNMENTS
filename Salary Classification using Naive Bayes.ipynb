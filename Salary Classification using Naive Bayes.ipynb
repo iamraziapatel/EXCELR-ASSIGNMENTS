{
 "cells": [
  {
   "cell_type": "code",
   "execution_count": 1,
   "id": "23271653",
   "metadata": {},
   "outputs": [],
   "source": [
    "import pandas as pd\n",
    "from sklearn.naive_bayes import GaussianNB\n",
    "from sklearn.metrics import accuracy_score\n",
    "from sklearn.preprocessing import LabelEncoder\n"
   ]
  },
  {
   "cell_type": "code",
   "execution_count": 4,
   "id": "2efc1e64",
   "metadata": {},
   "outputs": [],
   "source": [
    "train_data = pd.read_csv('SalaryData_Train.csv')\n",
    "test_data = pd.read_csv('SalaryData_Test.csv')\n"
   ]
  },
  {
   "cell_type": "code",
   "execution_count": 5,
   "id": "2decc8ed",
   "metadata": {},
   "outputs": [],
   "source": [
    "# Combine the train and test data for preprocessing\n",
    "data = pd.concat([train_data, test_data])\n",
    "\n",
    "# Convert categorical variables to numerical using LabelEncoder\n",
    "le = LabelEncoder()\n",
    "data['workclass'] = le.fit_transform(data['workclass'])\n",
    "data['education'] = le.fit_transform(data['education'])\n",
    "data['maritalstatus'] = le.fit_transform(data['maritalstatus'])\n",
    "data['occupation'] = le.fit_transform(data['occupation'])\n",
    "data['relationship'] = le.fit_transform(data['relationship'])\n",
    "data['race'] = le.fit_transform(data['race'])\n",
    "data['sex'] = le.fit_transform(data['sex'])\n",
    "data['native'] = le.fit_transform(data['native'])\n",
    "data['Salary'] = le.fit_transform(data['Salary'])\n",
    "\n",
    "# Split the data back into train and test sets\n",
    "train_data = data[:len(train_data)]\n",
    "test_data = data[len(train_data):]\n"
   ]
  },
  {
   "cell_type": "code",
   "execution_count": 6,
   "id": "d9074bcb",
   "metadata": {},
   "outputs": [
    {
     "data": {
      "text/plain": [
       "GaussianNB()"
      ]
     },
     "execution_count": 6,
     "metadata": {},
     "output_type": "execute_result"
    }
   ],
   "source": [
    "# Separate the features and target variables\n",
    "X_train = train_data.drop('Salary', axis=1)\n",
    "y_train = train_data['Salary']\n",
    "\n",
    "# Initialize and train the Naive Bayes classifier\n",
    "naive_bayes = GaussianNB()\n",
    "naive_bayes.fit(X_train, y_train)\n"
   ]
  },
  {
   "cell_type": "code",
   "execution_count": 7,
   "id": "7c91810d",
   "metadata": {},
   "outputs": [],
   "source": [
    "X_test = test_data.drop('Salary', axis=1)\n",
    "y_test = test_data['Salary']\n",
    "\n",
    "# Use the trained model to make predictions\n",
    "y_pred = naive_bayes.predict(X_test)\n"
   ]
  },
  {
   "cell_type": "code",
   "execution_count": 8,
   "id": "ea58721e",
   "metadata": {},
   "outputs": [
    {
     "name": "stdout",
     "output_type": "stream",
     "text": [
      "Accuracy: 0.7946879150066402\n"
     ]
    }
   ],
   "source": [
    "# Calculate the accuracy of the model\n",
    "accuracy = accuracy_score(y_test, y_pred)\n",
    "print(\"Accuracy:\", accuracy)\n"
   ]
  },
  {
   "cell_type": "code",
   "execution_count": 10,
   "id": "5a4d2027",
   "metadata": {},
   "outputs": [
    {
     "name": "stdout",
     "output_type": "stream",
     "text": [
      "              precision    recall  f1-score   support\n",
      "\n",
      "           0       0.81      0.95      0.87     11360\n",
      "           1       0.67      0.33      0.44      3700\n",
      "\n",
      "    accuracy                           0.79     15060\n",
      "   macro avg       0.74      0.64      0.66     15060\n",
      "weighted avg       0.78      0.79      0.77     15060\n",
      "\n"
     ]
    }
   ],
   "source": [
    "from sklearn.metrics import classification_report\n",
    "print(classification_report(y_test,y_pred))"
   ]
  }
 ],
 "metadata": {
  "kernelspec": {
   "display_name": "Python 3 (ipykernel)",
   "language": "python",
   "name": "python3"
  },
  "language_info": {
   "codemirror_mode": {
    "name": "ipython",
    "version": 3
   },
   "file_extension": ".py",
   "mimetype": "text/x-python",
   "name": "python",
   "nbconvert_exporter": "python",
   "pygments_lexer": "ipython3",
   "version": "3.9.13"
  }
 },
 "nbformat": 4,
 "nbformat_minor": 5
}
