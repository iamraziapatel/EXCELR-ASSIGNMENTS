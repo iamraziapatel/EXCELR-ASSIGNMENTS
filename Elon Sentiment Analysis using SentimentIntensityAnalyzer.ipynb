{
 "cells": [
  {
   "cell_type": "markdown",
   "id": "5cbaac79",
   "metadata": {},
   "source": [
    "# ONE:\n",
    "1) Perform sentimental analysis on the Elon-musk tweets (Exlon-musk.csv)"
   ]
  },
  {
   "cell_type": "markdown",
   "id": "2fb9dc46",
   "metadata": {},
   "source": [
    "Importing the necessary libraries for sentiment analysis. You will need pandas, numpy, and the Natural Language Toolkit (NLTK) library."
   ]
  },
  {
   "cell_type": "code",
   "execution_count": 1,
   "id": "9b0bd1dc",
   "metadata": {},
   "outputs": [
    {
     "name": "stderr",
     "output_type": "stream",
     "text": [
      "[nltk_data] Downloading package vader_lexicon to\n",
      "[nltk_data]     C:\\Users\\HP\\AppData\\Roaming\\nltk_data...\n",
      "[nltk_data]   Package vader_lexicon is already up-to-date!\n"
     ]
    },
    {
     "data": {
      "text/plain": [
       "True"
      ]
     },
     "execution_count": 1,
     "metadata": {},
     "output_type": "execute_result"
    }
   ],
   "source": [
    "import pandas as pd\n",
    "import numpy as np\n",
    "import nltk\n",
    "nltk.download('vader_lexicon')\n"
   ]
  },
  {
   "cell_type": "code",
   "execution_count": 2,
   "id": "f0f655f8",
   "metadata": {},
   "outputs": [
    {
     "data": {
      "text/plain": [
       "{'encoding': 'Windows-1252', 'confidence': 0.7298950869484879, 'language': ''}"
      ]
     },
     "execution_count": 2,
     "metadata": {},
     "output_type": "execute_result"
    }
   ],
   "source": [
    "import chardet\n",
    "\n",
    "# Determine the encoding of the CSV file\n",
    "with open('Elon_musk.csv', 'rb') as f:\n",
    "    result = chardet.detect(f.read())\n",
    "    \n",
    "# Read the CSV file with the detected encoding\n",
    "data = pd.read_csv('Elon_musk.csv', encoding=result['encoding'])\n",
    "result"
   ]
  },
  {
   "cell_type": "code",
   "execution_count": 3,
   "id": "356aa26b",
   "metadata": {},
   "outputs": [
    {
     "data": {
      "text/html": [
       "<div>\n",
       "<style scoped>\n",
       "    .dataframe tbody tr th:only-of-type {\n",
       "        vertical-align: middle;\n",
       "    }\n",
       "\n",
       "    .dataframe tbody tr th {\n",
       "        vertical-align: top;\n",
       "    }\n",
       "\n",
       "    .dataframe thead th {\n",
       "        text-align: right;\n",
       "    }\n",
       "</style>\n",
       "<table border=\"1\" class=\"dataframe\">\n",
       "  <thead>\n",
       "    <tr style=\"text-align: right;\">\n",
       "      <th></th>\n",
       "      <th>Unnamed: 0</th>\n",
       "      <th>Text</th>\n",
       "    </tr>\n",
       "  </thead>\n",
       "  <tbody>\n",
       "    <tr>\n",
       "      <th>0</th>\n",
       "      <td>1</td>\n",
       "      <td>@kunalb11 I’m an alien</td>\n",
       "    </tr>\n",
       "    <tr>\n",
       "      <th>1</th>\n",
       "      <td>2</td>\n",
       "      <td>@ID_AA_Carmack Ray tracing on Cyberpunk with H...</td>\n",
       "    </tr>\n",
       "    <tr>\n",
       "      <th>2</th>\n",
       "      <td>3</td>\n",
       "      <td>@joerogan @Spotify Great interview!</td>\n",
       "    </tr>\n",
       "    <tr>\n",
       "      <th>3</th>\n",
       "      <td>4</td>\n",
       "      <td>@gtera27 Doge is underestimated</td>\n",
       "    </tr>\n",
       "    <tr>\n",
       "      <th>4</th>\n",
       "      <td>5</td>\n",
       "      <td>@teslacn Congratulations Tesla China for amazi...</td>\n",
       "    </tr>\n",
       "    <tr>\n",
       "      <th>...</th>\n",
       "      <td>...</td>\n",
       "      <td>...</td>\n",
       "    </tr>\n",
       "    <tr>\n",
       "      <th>1994</th>\n",
       "      <td>1995</td>\n",
       "      <td>@flcnhvy True, it sounds so surreal, but the n...</td>\n",
       "    </tr>\n",
       "    <tr>\n",
       "      <th>1995</th>\n",
       "      <td>1996</td>\n",
       "      <td>@PPathole Make sure to read ur terms &amp;amp; con...</td>\n",
       "    </tr>\n",
       "    <tr>\n",
       "      <th>1996</th>\n",
       "      <td>1997</td>\n",
       "      <td>@TeslaGong @PPathole Samwise Gamgee</td>\n",
       "    </tr>\n",
       "    <tr>\n",
       "      <th>1997</th>\n",
       "      <td>1998</td>\n",
       "      <td>@PPathole Altho Dumb and Dumber is &lt;U+0001F525...</td>\n",
       "    </tr>\n",
       "    <tr>\n",
       "      <th>1998</th>\n",
       "      <td>1999</td>\n",
       "      <td>Progress update August 28</td>\n",
       "    </tr>\n",
       "  </tbody>\n",
       "</table>\n",
       "<p>1999 rows × 2 columns</p>\n",
       "</div>"
      ],
      "text/plain": [
       "      Unnamed: 0                                               Text\n",
       "0              1                             @kunalb11 I’m an alien\n",
       "1              2  @ID_AA_Carmack Ray tracing on Cyberpunk with H...\n",
       "2              3                @joerogan @Spotify Great interview!\n",
       "3              4                    @gtera27 Doge is underestimated\n",
       "4              5  @teslacn Congratulations Tesla China for amazi...\n",
       "...          ...                                                ...\n",
       "1994        1995  @flcnhvy True, it sounds so surreal, but the n...\n",
       "1995        1996  @PPathole Make sure to read ur terms &amp; con...\n",
       "1996        1997                @TeslaGong @PPathole Samwise Gamgee\n",
       "1997        1998  @PPathole Altho Dumb and Dumber is <U+0001F525...\n",
       "1998        1999                          Progress update August 28\n",
       "\n",
       "[1999 rows x 2 columns]"
      ]
     },
     "execution_count": 3,
     "metadata": {},
     "output_type": "execute_result"
    }
   ],
   "source": [
    "data"
   ]
  },
  {
   "cell_type": "markdown",
   "id": "4abeddb3",
   "metadata": {},
   "source": [
    "Preprocess the Data: Perform data preprocessing steps to clean the text data. This may include removing any irrelevant columns, removing duplicate rows, handling missing values, and transforming the text to lowercase."
   ]
  },
  {
   "cell_type": "code",
   "execution_count": 6,
   "id": "3fb59a5c",
   "metadata": {},
   "outputs": [
    {
     "data": {
      "text/plain": [
       "0                                  @kunalb11 i’m an alien\n",
       "1       @id_aa_carmack ray tracing on cyberpunk with h...\n",
       "2                     @joerogan @spotify great interview!\n",
       "3                         @gtera27 doge is underestimated\n",
       "4       @teslacn congratulations tesla china for amazi...\n",
       "                              ...                        \n",
       "1994    @flcnhvy true, it sounds so surreal, but the n...\n",
       "1995    @ppathole make sure to read ur terms &amp; con...\n",
       "1996                  @teslagong @ppathole samwise gamgee\n",
       "1997    @ppathole altho dumb and dumber is <u+0001f525...\n",
       "1998                            progress update august 28\n",
       "Name: Text, Length: 1997, dtype: object"
      ]
     },
     "execution_count": 6,
     "metadata": {},
     "output_type": "execute_result"
    }
   ],
   "source": [
    "import warnings\n",
    "\n",
    "\n",
    "# Remove irrelevant columns\n",
    "data = data[['Text']]\n",
    "\n",
    "# Remove duplicate rows\n",
    "data.drop_duplicates(inplace=True)\n",
    "\n",
    "# Handle missing values\n",
    "data.dropna(inplace=True)\n",
    "\n",
    "# Convert text to lowercase\n",
    "data['Text'] = data['Text'].str.lower()\n",
    "data['Text']"
   ]
  },
  {
   "cell_type": "markdown",
   "id": "129d7566",
   "metadata": {},
   "source": [
    "Sentiment Analysis with NLTK: Use the NLTK library to perform sentiment analysis. \n",
    "NLTK provides a pre-trained sentiment analyzer called VADER (Valence Aware Dictionary and sEntiment Reasoner) that is suitable for this task."
   ]
  },
  {
   "cell_type": "code",
   "execution_count": 10,
   "id": "dbe127c3",
   "metadata": {},
   "outputs": [
    {
     "data": {
      "text/plain": [
       "0                 {'neg': 0.0, 'neu': 1.0, 'pos': 0.0, 'compound': 0.0}\n",
       "1                 {'neg': 0.0, 'neu': 1.0, 'pos': 0.0, 'compound': 0.0}\n",
       "2          {'neg': 0.0, 'neu': 0.406, 'pos': 0.594, 'compound': 0.6588}\n",
       "3         {'neg': 0.412, 'neu': 0.588, 'pos': 0.0, 'compound': -0.2732}\n",
       "4          {'neg': 0.0, 'neu': 0.644, 'pos': 0.356, 'compound': 0.8513}\n",
       "                                     ...                               \n",
       "1994    {'neg': 0.234, 'neu': 0.588, 'pos': 0.178, 'compound': -0.4215}\n",
       "1995        {'neg': 0.0, 'neu': 0.658, 'pos': 0.342, 'compound': 0.636}\n",
       "1996              {'neg': 0.0, 'neu': 1.0, 'pos': 0.0, 'compound': 0.0}\n",
       "1997      {'neg': 0.537, 'neu': 0.463, 'pos': 0.0, 'compound': -0.7003}\n",
       "1998       {'neg': 0.0, 'neu': 0.517, 'pos': 0.483, 'compound': 0.4215}\n",
       "Name: sentiment_scores, Length: 1997, dtype: object"
      ]
     },
     "execution_count": 10,
     "metadata": {},
     "output_type": "execute_result"
    }
   ],
   "source": [
    "from nltk.sentiment import SentimentIntensityAnalyzer\n",
    "\n",
    "# Instantiate the sentiment analyzer\n",
    "sid = SentimentIntensityAnalyzer()\n",
    "pd.set_option('display.max_colwidth',None)\n",
    "# Apply sentiment analysis to each tweet\n",
    "data['sentiment_scores'] = data['Text'].apply(lambda x: sid.polarity_scores(x))\n",
    "data['sentiment_scores'] "
   ]
  },
  {
   "cell_type": "markdown",
   "id": "22644b1f",
   "metadata": {},
   "source": [
    "Extract Sentiment Labels: Extract the sentiment labels (positive, negative, or neutral) from the sentiment scores provided by the VADER analyzer."
   ]
  },
  {
   "cell_type": "code",
   "execution_count": 11,
   "id": "9dcfb2d0",
   "metadata": {},
   "outputs": [],
   "source": [
    "# Extract the compound score from sentiment scores\n",
    "data['compound_score'] = data['sentiment_scores'].apply(lambda x: x['compound'])\n",
    "\n",
    "# Classify the sentiment labels\n",
    "data['sentiment_label'] = data['compound_score'].apply(lambda x: 'positive' if x >= 0 else 'negative')\n"
   ]
  },
  {
   "cell_type": "code",
   "execution_count": 14,
   "id": "69d78251",
   "metadata": {},
   "outputs": [
    {
     "name": "stdout",
     "output_type": "stream",
     "text": [
      "*********************************\n",
      "Sentiment Counts positive    1766\n",
      "negative     231\n",
      "Name: sentiment_label, dtype: int64\n",
      "\n",
      "*********************************\n",
      "Sentiment Percentages positive    88.432649\n",
      "negative    11.567351\n",
      "Name: sentiment_label, dtype: float64\n"
     ]
    }
   ],
   "source": [
    "# Count the number of positive, negative, and neutral tweets\n",
    "sentiment_counts = data['sentiment_label'].value_counts()\n",
    "\n",
    "# Calculate the percentage of each sentiment\n",
    "sentiment_percentages = sentiment_counts / sentiment_counts.sum() * 100\n",
    "\n",
    "print(\"*********************************\")\n",
    "print(\"Sentiment Counts\",sentiment_counts)\n",
    "print(\"\\n*********************************\")\n",
    "print(\"Sentiment Percentages\",sentiment_percentages)\n"
   ]
  },
  {
   "cell_type": "markdown",
   "id": "6e33c336",
   "metadata": {},
   "source": [
    "Analyze the Results:\n",
    "As per the above sentiment labelsthe insights we gain into the sentiment expressed in Elon Musk's tweets are as follows:\n",
    "out of the 1999 total tweets 1766 tweets show Positive sentiments and 231 show negative sentiments.\n",
    "\n",
    "so 88.43% of the total tweets show Positive sentiments.\n",
    "\n"
   ]
  }
 ],
 "metadata": {
  "kernelspec": {
   "display_name": "Python 3 (ipykernel)",
   "language": "python",
   "name": "python3"
  },
  "language_info": {
   "codemirror_mode": {
    "name": "ipython",
    "version": 3
   },
   "file_extension": ".py",
   "mimetype": "text/x-python",
   "name": "python",
   "nbconvert_exporter": "python",
   "pygments_lexer": "ipython3",
   "version": "3.9.13"
  }
 },
 "nbformat": 4,
 "nbformat_minor": 5
}
