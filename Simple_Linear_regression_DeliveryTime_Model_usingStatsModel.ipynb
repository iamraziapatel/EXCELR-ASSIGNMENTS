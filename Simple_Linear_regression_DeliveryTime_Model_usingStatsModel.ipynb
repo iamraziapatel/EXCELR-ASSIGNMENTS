{
 "cells": [
  {
   "cell_type": "markdown",
   "id": "298cd8f6",
   "metadata": {},
   "source": [
    "# Simple linear regression using  stats model without transformation"
   ]
  },
  {
   "cell_type": "code",
   "execution_count": 1,
   "id": "1398432c",
   "metadata": {},
   "outputs": [
    {
     "name": "stdout",
     "output_type": "stream",
     "text": [
      "                            OLS Regression Results                            \n",
      "==============================================================================\n",
      "Dep. Variable:          Delivery Time   R-squared:                       0.760\n",
      "Model:                            OLS   Adj. R-squared:                  0.742\n",
      "Method:                 Least Squares   F-statistic:                     44.22\n",
      "Date:                Sat, 15 Apr 2023   Prob (F-statistic):           1.10e-05\n",
      "Time:                        14:20:35   Log-Likelihood:                -38.507\n",
      "No. Observations:                  16   AIC:                             81.01\n",
      "Df Residuals:                      14   BIC:                             82.56\n",
      "Df Model:                           1                                         \n",
      "Covariance Type:            nonrobust                                         \n",
      "================================================================================\n",
      "                   coef    std err          t      P>|t|      [0.025      0.975]\n",
      "--------------------------------------------------------------------------------\n",
      "const            4.6823      1.945      2.408      0.030       0.512       8.853\n",
      "Sorting Time     2.0242      0.304      6.650      0.000       1.371       2.677\n",
      "==============================================================================\n",
      "Omnibus:                        4.034   Durbin-Watson:                   2.295\n",
      "Prob(Omnibus):                  0.133   Jarque-Bera (JB):                2.110\n",
      "Skew:                           0.871   Prob(JB):                        0.348\n",
      "Kurtosis:                       3.365   Cond. No.                         17.7\n",
      "==============================================================================\n",
      "\n",
      "Notes:\n",
      "[1] Standard Errors assume that the covariance matrix of the errors is correctly specified.\n",
      "R-squared: -1.0207599586367424\n",
      "RMSE: 3.7478979383962767\n"
     ]
    },
    {
     "name": "stderr",
     "output_type": "stream",
     "text": [
      "C:\\Users\\HP\\anaconda3\\lib\\site-packages\\scipy\\stats\\_stats_py.py:1769: UserWarning: kurtosistest only valid for n>=20 ... continuing anyway, n=16\n",
      "  warnings.warn(\"kurtosistest only valid for n>=20 ... continuing \"\n"
     ]
    },
    {
     "data": {
      "text/html": [
       "<div>\n",
       "<style scoped>\n",
       "    .dataframe tbody tr th:only-of-type {\n",
       "        vertical-align: middle;\n",
       "    }\n",
       "\n",
       "    .dataframe tbody tr th {\n",
       "        vertical-align: top;\n",
       "    }\n",
       "\n",
       "    .dataframe thead th {\n",
       "        text-align: right;\n",
       "    }\n",
       "</style>\n",
       "<table border=\"1\" class=\"dataframe\">\n",
       "  <thead>\n",
       "    <tr style=\"text-align: right;\">\n",
       "      <th></th>\n",
       "      <th>const</th>\n",
       "      <th>Sorting Time</th>\n",
       "    </tr>\n",
       "  </thead>\n",
       "  <tbody>\n",
       "    <tr>\n",
       "      <th>5</th>\n",
       "      <td>1.0</td>\n",
       "      <td>6</td>\n",
       "    </tr>\n",
       "    <tr>\n",
       "      <th>11</th>\n",
       "      <td>1.0</td>\n",
       "      <td>4</td>\n",
       "    </tr>\n",
       "    <tr>\n",
       "      <th>3</th>\n",
       "      <td>1.0</td>\n",
       "      <td>9</td>\n",
       "    </tr>\n",
       "    <tr>\n",
       "      <th>18</th>\n",
       "      <td>1.0</td>\n",
       "      <td>2</td>\n",
       "    </tr>\n",
       "    <tr>\n",
       "      <th>16</th>\n",
       "      <td>1.0</td>\n",
       "      <td>6</td>\n",
       "    </tr>\n",
       "    <tr>\n",
       "      <th>13</th>\n",
       "      <td>1.0</td>\n",
       "      <td>3</td>\n",
       "    </tr>\n",
       "    <tr>\n",
       "      <th>2</th>\n",
       "      <td>1.0</td>\n",
       "      <td>6</td>\n",
       "    </tr>\n",
       "    <tr>\n",
       "      <th>9</th>\n",
       "      <td>1.0</td>\n",
       "      <td>9</td>\n",
       "    </tr>\n",
       "    <tr>\n",
       "      <th>20</th>\n",
       "      <td>1.0</td>\n",
       "      <td>5</td>\n",
       "    </tr>\n",
       "    <tr>\n",
       "      <th>4</th>\n",
       "      <td>1.0</td>\n",
       "      <td>10</td>\n",
       "    </tr>\n",
       "    <tr>\n",
       "      <th>12</th>\n",
       "      <td>1.0</td>\n",
       "      <td>7</td>\n",
       "    </tr>\n",
       "    <tr>\n",
       "      <th>7</th>\n",
       "      <td>1.0</td>\n",
       "      <td>3</td>\n",
       "    </tr>\n",
       "    <tr>\n",
       "      <th>10</th>\n",
       "      <td>1.0</td>\n",
       "      <td>8</td>\n",
       "    </tr>\n",
       "    <tr>\n",
       "      <th>14</th>\n",
       "      <td>1.0</td>\n",
       "      <td>3</td>\n",
       "    </tr>\n",
       "    <tr>\n",
       "      <th>19</th>\n",
       "      <td>1.0</td>\n",
       "      <td>7</td>\n",
       "    </tr>\n",
       "    <tr>\n",
       "      <th>6</th>\n",
       "      <td>1.0</td>\n",
       "      <td>7</td>\n",
       "    </tr>\n",
       "  </tbody>\n",
       "</table>\n",
       "</div>"
      ],
      "text/plain": [
       "    const  Sorting Time\n",
       "5     1.0             6\n",
       "11    1.0             4\n",
       "3     1.0             9\n",
       "18    1.0             2\n",
       "16    1.0             6\n",
       "13    1.0             3\n",
       "2     1.0             6\n",
       "9     1.0             9\n",
       "20    1.0             5\n",
       "4     1.0            10\n",
       "12    1.0             7\n",
       "7     1.0             3\n",
       "10    1.0             8\n",
       "14    1.0             3\n",
       "19    1.0             7\n",
       "6     1.0             7"
      ]
     },
     "execution_count": 1,
     "metadata": {},
     "output_type": "execute_result"
    }
   ],
   "source": [
    "\n",
    "\n",
    "import pandas as pd\n",
    "import numpy as np\n",
    "import statsmodels.api as sm\n",
    "from sklearn.model_selection import train_test_split\n",
    "from sklearn.metrics import r2_score, mean_squared_error\n",
    "\n",
    "data = pd.read_csv('delivery_time.csv')\n",
    "\n",
    "# Split the data into training and testing sets\n",
    "X_train, X_test, y_train, y_test = train_test_split(data['Sorting Time'], data['Delivery Time'], test_size=0.2, random_state=42)\n",
    "\n",
    "# Fit a linear regression model to the training data\n",
    "X_train = sm.add_constant(X_train)  # add a constant term to the model if not added it the constant coefficient is empty in the summary\n",
    "model = sm.OLS(y_train, X_train)\n",
    "results = model.fit()\n",
    "\n",
    "# Print the model summary\n",
    "print(results.summary())\n",
    "\n",
    "# Make predictions on the testing set\n",
    "X_test = sm.add_constant(X_test)\n",
    "y_pred = results.predict(X_test)\n",
    "\n",
    "# Evaluate the performance of the model on the testing set\n",
    "print('R-squared:', r2_score(y_test, y_pred))\n",
    "print('RMSE:', np.sqrt(mean_squared_error(y_test, y_pred)))\n",
    "X_train\n"
   ]
  },
  {
   "cell_type": "markdown",
   "id": "93450274",
   "metadata": {},
   "source": [
    "# Model with Apply log transformation to both variables"
   ]
  },
  {
   "cell_type": "code",
   "execution_count": 13,
   "id": "81e7e153",
   "metadata": {},
   "outputs": [
    {
     "name": "stdout",
     "output_type": "stream",
     "text": [
      "                            OLS Regression Results                            \n",
      "==============================================================================\n",
      "Dep. Variable:          Delivery Time   R-squared:                       0.839\n",
      "Model:                            OLS   Adj. R-squared:                  0.828\n",
      "Method:                 Least Squares   F-statistic:                     73.14\n",
      "Date:                Wed, 12 Apr 2023   Prob (F-statistic):           6.24e-07\n",
      "Time:                        14:32:07   Log-Likelihood:                 24.062\n",
      "No. Observations:                  16   AIC:                            -44.12\n",
      "Df Residuals:                      14   BIC:                            -42.58\n",
      "Df Model:                           1                                         \n",
      "Covariance Type:            nonrobust                                         \n",
      "================================================================================\n",
      "                   coef    std err          t      P>|t|      [0.025      0.975]\n",
      "--------------------------------------------------------------------------------\n",
      "const           -0.1813      0.025     -7.131      0.000      -0.236      -0.127\n",
      "Sorting Time     0.3772      0.044      8.552      0.000       0.283       0.472\n",
      "==============================================================================\n",
      "Omnibus:                        0.270   Durbin-Watson:                   2.041\n",
      "Prob(Omnibus):                  0.874   Jarque-Bera (JB):                0.387\n",
      "Skew:                           0.245   Prob(JB):                        0.824\n",
      "Kurtosis:                       2.417   Cond. No.                         3.83\n",
      "==============================================================================\n",
      "\n",
      "Notes:\n",
      "[1] Standard Errors assume that the covariance matrix of the errors is correctly specified.\n",
      "R-squared: 0.3202714867824704\n",
      "RMSE: 0.045785870867076923\n"
     ]
    },
    {
     "name": "stderr",
     "output_type": "stream",
     "text": [
      "C:\\Users\\HP\\anaconda3\\lib\\site-packages\\scipy\\stats\\_stats_py.py:1769: UserWarning: kurtosistest only valid for n>=20 ... continuing anyway, n=16\n",
      "  warnings.warn(\"kurtosistest only valid for n>=20 ... continuing \"\n"
     ]
    }
   ],
   "source": [
    "# Apply log transformation to both variables\n",
    "data['Delivery Time'] = np.log(data['Delivery Time'])\n",
    "data['Sorting Time'] = np.log(data['Sorting Time'])\n",
    "\n",
    "# Split the data into training and testing sets\n",
    "X_train, X_test, y_train, y_test = train_test_split(data['Sorting Time'], data['Delivery Time'], test_size=0.2, random_state=42)\n",
    "\n",
    "# Fit a linear regression model to the training data\n",
    "X_train = sm.add_constant(X_train)  # add a constant term to the model\n",
    "model = sm.OLS(y_train, X_train)\n",
    "results = model.fit()\n",
    "\n",
    "# Print the model summary\n",
    "print(results.summary())\n",
    "\n",
    "# Make predictions on the testing set\n",
    "X_test = sm.add_constant(X_test)\n",
    "y_pred = results.predict(X_test)\n",
    "\n",
    "# Apply the inverse log transformation to the predicted values\n",
    "y_pred = np.exp(y_pred)\n",
    "\n",
    "# Evaluate the performance of the model on the testing set\n",
    "print('R-squared:', r2_score(np.exp(y_test), y_pred))\n",
    "print('RMSE:', np.sqrt(mean_squared_error(np.exp(y_test), y_pred)))\n"
   ]
  },
  {
   "cell_type": "markdown",
   "id": "0e2f95eb",
   "metadata": {},
   "source": [
    "# Apply log transformation to the response variable"
   ]
  },
  {
   "cell_type": "code",
   "execution_count": 16,
   "id": "c54c3bc8",
   "metadata": {},
   "outputs": [
    {
     "name": "stdout",
     "output_type": "stream",
     "text": [
      "                            OLS Regression Results                            \n",
      "==============================================================================\n",
      "Dep. Variable:          Delivery Time   R-squared:                       0.783\n",
      "Model:                            OLS   Adj. R-squared:                  0.768\n",
      "Method:                 Least Squares   F-statistic:                     50.57\n",
      "Date:                Wed, 12 Apr 2023   Prob (F-statistic):           5.24e-06\n",
      "Time:                        14:43:58   Log-Likelihood:                 22.343\n",
      "No. Observations:                  16   AIC:                            -40.69\n",
      "Df Residuals:                      14   BIC:                            -39.14\n",
      "Df Model:                           1                                         \n",
      "Covariance Type:            nonrobust                                         \n",
      "================================================================================\n",
      "                   coef    std err          t      P>|t|      [0.025      0.975]\n",
      "--------------------------------------------------------------------------------\n",
      "const            0.7201      0.043     16.606      0.000       0.627       0.813\n",
      "Sorting Time     0.0483      0.007      7.111      0.000       0.034       0.063\n",
      "==============================================================================\n",
      "Omnibus:                        5.822   Durbin-Watson:                   2.388\n",
      "Prob(Omnibus):                  0.054   Jarque-Bera (JB):                3.037\n",
      "Skew:                           0.958   Prob(JB):                        0.219\n",
      "Kurtosis:                       3.939   Cond. No.                         17.7\n",
      "==============================================================================\n",
      "\n",
      "Notes:\n",
      "[1] Standard Errors assume that the covariance matrix of the errors is correctly specified.\n",
      "R-squared: -1.7449208109197918\n",
      "RMSE: 0.2587053680601359\n"
     ]
    },
    {
     "name": "stderr",
     "output_type": "stream",
     "text": [
      "C:\\Users\\HP\\anaconda3\\lib\\site-packages\\scipy\\stats\\_stats_py.py:1769: UserWarning: kurtosistest only valid for n>=20 ... continuing anyway, n=16\n",
      "  warnings.warn(\"kurtosistest only valid for n>=20 ... continuing \"\n"
     ]
    }
   ],
   "source": [
    "import pandas as pd\n",
    "import numpy as np\n",
    "import statsmodels.api as sm\n",
    "from sklearn.model_selection import train_test_split\n",
    "from sklearn.metrics import r2_score, mean_squared_error\n",
    "\n",
    "\n",
    "\n",
    "# Transform the response variable\n",
    "data['Delivery Time'] = np.log(data['Delivery Time'])\n",
    "\n",
    "# Split the data into training and testing sets\n",
    "X_train, X_test, y_train, y_test = train_test_split(data['Sorting Time'], data['Delivery Time'], test_size=0.2, random_state=42)\n",
    "\n",
    "# Fit a linear regression model to the training data\n",
    "X_train = sm.add_constant(X_train)  # add a constant term to the model\n",
    "model = sm.OLS(y_train, X_train)\n",
    "results = model.fit()\n",
    "\n",
    "# Print the model summary\n",
    "print(results.summary())\n",
    "\n",
    "# Make predictions on the testing set\n",
    "X_test = sm.add_constant(X_test)\n",
    "y_pred = results.predict(X_test)\n",
    "\n",
    "# Transform the predicted values back to the original scale\n",
    "y_pred = np.exp(y_pred)\n",
    "\n",
    "# Evaluate the performance of the model on the testing set\n",
    "print('R-squared:', r2_score(np.exp(y_test), y_pred))\n",
    "print('RMSE:', np.sqrt(mean_squared_error(np.exp(y_test), y_pred)))\n"
   ]
  },
  {
   "cell_type": "markdown",
   "id": "7ab0d536",
   "metadata": {},
   "source": [
    "# Apply log transformation to the independent variable"
   ]
  },
  {
   "cell_type": "code",
   "execution_count": 18,
   "id": "a8701e66",
   "metadata": {},
   "outputs": [
    {
     "name": "stdout",
     "output_type": "stream",
     "text": [
      "                            OLS Regression Results                            \n",
      "==============================================================================\n",
      "Dep. Variable:          Delivery Time   R-squared:                       0.823\n",
      "Model:                            OLS   Adj. R-squared:                  0.811\n",
      "Method:                 Least Squares   F-statistic:                     65.16\n",
      "Date:                Wed, 12 Apr 2023   Prob (F-statistic):           1.23e-06\n",
      "Time:                        15:00:55   Log-Likelihood:                 23.973\n",
      "No. Observations:                  16   AIC:                            -43.95\n",
      "Df Residuals:                      14   BIC:                            -42.40\n",
      "Df Model:                           1                                         \n",
      "Covariance Type:            nonrobust                                         \n",
      "================================================================================\n",
      "                   coef    std err          t      P>|t|      [0.025      0.975]\n",
      "--------------------------------------------------------------------------------\n",
      "const            0.5807      0.055     10.611      0.000       0.463       0.698\n",
      "Sorting Time     0.2527      0.031      8.072      0.000       0.186       0.320\n",
      "==============================================================================\n",
      "Omnibus:                        2.663   Durbin-Watson:                   2.175\n",
      "Prob(Omnibus):                  0.264   Jarque-Bera (JB):                1.472\n",
      "Skew:                           0.743   Prob(JB):                        0.479\n",
      "Kurtosis:                       3.011   Cond. No.                         8.67\n",
      "==============================================================================\n",
      "\n",
      "Notes:\n",
      "[1] Standard Errors assume that the covariance matrix of the errors is correctly specified.\n",
      "R-squared: -0.1456651433507854\n",
      "RMSE: 0.05944188662265639\n"
     ]
    },
    {
     "name": "stderr",
     "output_type": "stream",
     "text": [
      "C:\\Users\\HP\\anaconda3\\lib\\site-packages\\scipy\\stats\\_stats_py.py:1769: UserWarning: kurtosistest only valid for n>=20 ... continuing anyway, n=16\n",
      "  warnings.warn(\"kurtosistest only valid for n>=20 ... continuing \"\n"
     ]
    }
   ],
   "source": [
    "\n",
    "\n",
    "# Apply log transformation to the independent variable\n",
    "data['Sorting Time'] = np.log(data['Sorting Time'])\n",
    "\n",
    "# Split the data into training and testing sets\n",
    "X_train, X_test, y_train, y_test = train_test_split(data['Sorting Time'], data['Delivery Time'], test_size=0.2, random_state=42)\n",
    "\n",
    "# Fit a linear regression model to the training data\n",
    "X_train = sm.add_constant(X_train)  # add a constant term to the model\n",
    "model = sm.OLS(y_train, X_train)\n",
    "results = model.fit()\n",
    "\n",
    "# Print the model summary\n",
    "print(results.summary())\n",
    "\n",
    "# Make predictions on the testing set\n",
    "X_test = sm.add_constant(X_test)\n",
    "y_pred = results.predict(X_test)\n",
    "\n",
    "# Evaluate the performance of the model on the testing set\n",
    "print('R-squared:', r2_score(y_test, y_pred))\n",
    "print('RMSE:', np.sqrt(mean_squared_error(y_test, y_pred)))\n"
   ]
  },
  {
   "cell_type": "markdown",
   "id": "0475bfe5",
   "metadata": {},
   "source": [
    "# Apply square transformation to the response variable"
   ]
  },
  {
   "cell_type": "code",
   "execution_count": 17,
   "id": "12dd1349",
   "metadata": {},
   "outputs": [
    {
     "name": "stdout",
     "output_type": "stream",
     "text": [
      "                            OLS Regression Results                            \n",
      "==============================================================================\n",
      "Dep. Variable:          Delivery Time   R-squared:                       0.787\n",
      "Model:                            OLS   Adj. R-squared:                  0.772\n",
      "Method:                 Least Squares   F-statistic:                     51.79\n",
      "Date:                Wed, 12 Apr 2023   Prob (F-statistic):           4.59e-06\n",
      "Time:                        14:45:26   Log-Likelihood:                 11.790\n",
      "No. Observations:                  16   AIC:                            -19.58\n",
      "Df Residuals:                      14   BIC:                            -18.03\n",
      "Df Model:                           1                                         \n",
      "Covariance Type:            nonrobust                                         \n",
      "================================================================================\n",
      "                   coef    std err          t      P>|t|      [0.025      0.975]\n",
      "--------------------------------------------------------------------------------\n",
      "const            0.4691      0.084      5.594      0.000       0.289       0.649\n",
      "Sorting Time     0.0945      0.013      7.197      0.000       0.066       0.123\n",
      "==============================================================================\n",
      "Omnibus:                        6.974   Durbin-Watson:                   2.390\n",
      "Prob(Omnibus):                  0.031   Jarque-Bera (JB):                3.894\n",
      "Skew:                           1.075   Prob(JB):                        0.143\n",
      "Kurtosis:                       4.104   Cond. No.                         17.7\n",
      "==============================================================================\n",
      "\n",
      "Notes:\n",
      "[1] Standard Errors assume that the covariance matrix of the errors is correctly specified.\n",
      "R-squared (square): -1.1184355373882426\n",
      "RMSE (square): 0.16698403334102951\n"
     ]
    },
    {
     "name": "stderr",
     "output_type": "stream",
     "text": [
      "C:\\Users\\HP\\anaconda3\\lib\\site-packages\\scipy\\stats\\_stats_py.py:1769: UserWarning: kurtosistest only valid for n>=20 ... continuing anyway, n=16\n",
      "  warnings.warn(\"kurtosistest only valid for n>=20 ... continuing \"\n"
     ]
    }
   ],
   "source": [
    "# Apply square transformation to the response variable\n",
    "\n",
    "y_train_square = np.square(y_train)\n",
    "model_square = sm.OLS(y_train_square, X_train)\n",
    "results_square = model_square.fit()\n",
    "print(results_square.summary())\n",
    "y_test_square = np.square(y_test)\n",
    "y_pred_square = results_square.predict(X_test)\n",
    "print('R-squared (square):', r2_score(y_test_square, y_pred_square))\n",
    "print('RMSE (square):', np.sqrt(mean_squared_error(y_test_square, y_pred_square)))\n",
    "\n",
    "\n"
   ]
  },
  {
   "cell_type": "markdown",
   "id": "a8584646",
   "metadata": {},
   "source": [
    "# Apply square root transformation to the response variable"
   ]
  },
  {
   "cell_type": "code",
   "execution_count": null,
   "id": "a3fdb7de",
   "metadata": {},
   "outputs": [],
   "source": [
    "# Apply square root transformation to the response variable\n",
    "y_train_sqrt = np.sqrt(y_train)\n",
    "model_sqrt = sm.OLS(y_train_sqrt, X_train)\n",
    "results_sqrt = model_sqrt.fit()\n",
    "y_test_sqrt = np.sqrt(y_test)\n",
    "y_pred_sqrt = results_sqrt.predict(X_test)\n",
    "print('R-squared (sqrt):', r2_score(y_test_sqrt, y_pred_sqrt))\n",
    "print('RMSE (sqrt):', np.sqrt(mean_squared_error(y_test_sqrt, y_pred_sqrt)))"
   ]
  },
  {
   "cell_type": "markdown",
   "id": "47b61ae0",
   "metadata": {},
   "source": [
    "reference for negative r2 why is it negative and how to interpret\n",
    "https://help.desmos.com/hc/en-us/articles/202529139-Why-am-I-seeing-a-negative-R-2-value-#:~:text=In%20practice%2C%20R2%20will,the%20mean%20of%20the%20data."
   ]
  }
 ],
 "metadata": {
  "kernelspec": {
   "display_name": "Python 3 (ipykernel)",
   "language": "python",
   "name": "python3"
  },
  "language_info": {
   "codemirror_mode": {
    "name": "ipython",
    "version": 3
   },
   "file_extension": ".py",
   "mimetype": "text/x-python",
   "name": "python",
   "nbconvert_exporter": "python",
   "pygments_lexer": "ipython3",
   "version": "3.9.13"
  }
 },
 "nbformat": 4,
 "nbformat_minor": 5
}
