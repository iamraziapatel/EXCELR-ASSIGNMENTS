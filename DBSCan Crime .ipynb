{
 "cells": [
  {
   "cell_type": "code",
   "execution_count": null,
   "id": "3c71ab2a",
   "metadata": {},
   "outputs": [],
   "source": [
    "#Import libraries\n",
    "import pandas as pd\n",
    "import numpy as np\n",
    "import matplotlib.pyplot as plt\n",
    "plt.rcParams['figure.figsize'] = (10,5)\n",
    "plt.rcParams['figure.dpi'] = 300\n",
    "import seaborn as sns\n",
    "from sklearn.preprocessing import StandardScaler\n",
    "sns.set_theme(style='darkgrid',palette='viridis')\n",
    "%matplotlib inline"
   ]
  },
  {
   "cell_type": "code",
   "execution_count": null,
   "id": "645f5394",
   "metadata": {},
   "outputs": [],
   "source": [
    "df=pd.read_csv(\"crime_data.csv\")\n",
    "df.head()\n",
    "df.drop(columns=\"Unnamed: 0\",axis=1,inplace=True)\n",
    "df.head()"
   ]
  },
  {
   "cell_type": "code",
   "execution_count": null,
   "id": "7032714d",
   "metadata": {},
   "outputs": [],
   "source": [
    "df.isna().sum()\n",
    "df.info()\n",
    "df.describe()"
   ]
  },
  {
   "cell_type": "code",
   "execution_count": null,
   "id": "53c455c0",
   "metadata": {},
   "outputs": [],
   "source": [
    "plt.rcParams['figure.figsize'] = (10,5)\n",
    "plt.rcParams['figure.dpi'] = 250\n",
    "sns.set_style('darkgrid')"
   ]
  },
  {
   "cell_type": "code",
   "execution_count": null,
   "id": "cb919615",
   "metadata": {},
   "outputs": [],
   "source": [
    "sns.pairplot(df)"
   ]
  },
  {
   "cell_type": "code",
   "execution_count": null,
   "id": "72ba70e2",
   "metadata": {},
   "outputs": [],
   "source": [
    "from sklearn.preprocessing import StandardScaler\n",
    "\n",
    "stdscale=StandardScaler()\n",
    "scaledf=stdscale.fit_transform(df)\n",
    "x=pd.DataFrame(columns=df.columns,data=scaledf)\n",
    "x.head()\n",
    "x.describe()"
   ]
  },
  {
   "cell_type": "code",
   "execution_count": null,
   "id": "f18f4fa9",
   "metadata": {},
   "outputs": [],
   "source": [
    "from sklearn.cluster import DBSCAN\n",
    "db = DBSCAN(eps=0.5, min_samples=2)\n",
    "\n",
    "y = db.fit_predict(x)\n",
    "y\n",
    "x\n"
   ]
  },
  {
   "cell_type": "code",
   "execution_count": null,
   "id": "b7bb002a",
   "metadata": {},
   "outputs": [],
   "source": [
    "plt.scatter(x['Murder'],x['Assault'],c = y,cmap='rainbow')"
   ]
  },
  {
   "cell_type": "code",
   "execution_count": null,
   "id": "2fbdb939",
   "metadata": {},
   "outputs": [],
   "source": [
    "from sklearn.metrics import silhouette_score\n",
    "silhouette_score(x,y)"
   ]
  },
  {
   "cell_type": "markdown",
   "id": "02e9eed4",
   "metadata": {},
   "source": [
    "# Hyperparameter tuning"
   ]
  },
  {
   "cell_type": "code",
   "execution_count": null,
   "id": "93de191d",
   "metadata": {},
   "outputs": [],
   "source": [
    "from sklearn.neighbors import NearestNeighbors\n",
    "\n",
    "neigh = NearestNeighbors(n_neighbors=3).fit(x)\n",
    "d,i = neigh.kneighbors(x)\n",
    "pd.DataFrame(d)\n",
    "d"
   ]
  },
  {
   "cell_type": "code",
   "execution_count": null,
   "id": "dc65c6e6",
   "metadata": {},
   "outputs": [],
   "source": [
    "dist = np.sort(d[:,1])\n",
    "plt.plot(dist)\n",
    "plt.xlabel('Distance')\n",
    "plt.ylabel('Epsilon value')"
   ]
  },
  {
   "cell_type": "code",
   "execution_count": null,
   "id": "bb52f37a",
   "metadata": {},
   "outputs": [],
   "source": [
    "db = DBSCAN(eps=1.27,min_samples=3)\n",
    "ypred = db.fit_predict(x)\n",
    "ypred"
   ]
  },
  {
   "cell_type": "code",
   "execution_count": null,
   "id": "9efd0794",
   "metadata": {},
   "outputs": [],
   "source": [
    "silhouette_score(x,ypred)"
   ]
  },
  {
   "cell_type": "code",
   "execution_count": null,
   "id": "82740975",
   "metadata": {},
   "outputs": [],
   "source": [
    "\n",
    "plt.scatter(x.iloc[:,0],x.iloc[:,1],c = ypred,cmap='viridis')"
   ]
  },
  {
   "cell_type": "code",
   "execution_count": null,
   "id": "23f11e19",
   "metadata": {},
   "outputs": [],
   "source": [
    "df['cluster'] = ypred\n",
    "df"
   ]
  },
  {
   "cell_type": "code",
   "execution_count": null,
   "id": "025a3d9a",
   "metadata": {},
   "outputs": [],
   "source": [
    "df[df['cluster']==-1]"
   ]
  },
  {
   "cell_type": "code",
   "execution_count": null,
   "id": "694915a2",
   "metadata": {},
   "outputs": [],
   "source": [
    "df[df['cluster']==1]"
   ]
  },
  {
   "cell_type": "code",
   "execution_count": null,
   "id": "39857f2e",
   "metadata": {},
   "outputs": [],
   "source": [
    "df[df['cluster']==0]"
   ]
  }
 ],
 "metadata": {
  "kernelspec": {
   "display_name": "Python 3 (ipykernel)",
   "language": "python",
   "name": "python3"
  },
  "language_info": {
   "codemirror_mode": {
    "name": "ipython",
    "version": 3
   },
   "file_extension": ".py",
   "mimetype": "text/x-python",
   "name": "python",
   "nbconvert_exporter": "python",
   "pygments_lexer": "ipython3",
   "version": "3.9.13"
  }
 },
 "nbformat": 4,
 "nbformat_minor": 5
}
