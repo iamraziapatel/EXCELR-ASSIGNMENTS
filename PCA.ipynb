{
 "cells": [
  {
   "cell_type": "code",
   "execution_count": 1,
   "id": "23bccbe0",
   "metadata": {},
   "outputs": [],
   "source": [
    "import pandas as pd\n",
    "import matplotlib.pyplot as plt\n",
    "import numpy as np\n",
    "from sklearn.decomposition import PCA\n",
    "from sklearn.preprocessing import StandardScaler\n",
    "from sklearn.cluster import AgglomerativeClustering\n",
    "from scipy.cluster import hierarchy"
   ]
  },
  {
   "cell_type": "code",
   "execution_count": 2,
   "id": "f7a113cc",
   "metadata": {},
   "outputs": [
    {
     "data": {
      "text/html": [
       "<div>\n",
       "<style scoped>\n",
       "    .dataframe tbody tr th:only-of-type {\n",
       "        vertical-align: middle;\n",
       "    }\n",
       "\n",
       "    .dataframe tbody tr th {\n",
       "        vertical-align: top;\n",
       "    }\n",
       "\n",
       "    .dataframe thead th {\n",
       "        text-align: right;\n",
       "    }\n",
       "</style>\n",
       "<table border=\"1\" class=\"dataframe\">\n",
       "  <thead>\n",
       "    <tr style=\"text-align: right;\">\n",
       "      <th></th>\n",
       "      <th>Alcohol</th>\n",
       "      <th>Malic</th>\n",
       "      <th>Ash</th>\n",
       "      <th>Alcalinity</th>\n",
       "      <th>Magnesium</th>\n",
       "      <th>Phenols</th>\n",
       "      <th>Flavanoids</th>\n",
       "      <th>Nonflavanoids</th>\n",
       "      <th>Proanthocyanins</th>\n",
       "      <th>Color</th>\n",
       "      <th>Hue</th>\n",
       "      <th>Dilution</th>\n",
       "      <th>Proline</th>\n",
       "    </tr>\n",
       "  </thead>\n",
       "  <tbody>\n",
       "    <tr>\n",
       "      <th>0</th>\n",
       "      <td>14.23</td>\n",
       "      <td>1.71</td>\n",
       "      <td>2.43</td>\n",
       "      <td>15.6</td>\n",
       "      <td>127</td>\n",
       "      <td>2.80</td>\n",
       "      <td>3.06</td>\n",
       "      <td>0.28</td>\n",
       "      <td>2.29</td>\n",
       "      <td>5.64</td>\n",
       "      <td>1.04</td>\n",
       "      <td>3.92</td>\n",
       "      <td>1065</td>\n",
       "    </tr>\n",
       "    <tr>\n",
       "      <th>1</th>\n",
       "      <td>13.20</td>\n",
       "      <td>1.78</td>\n",
       "      <td>2.14</td>\n",
       "      <td>11.2</td>\n",
       "      <td>100</td>\n",
       "      <td>2.65</td>\n",
       "      <td>2.76</td>\n",
       "      <td>0.26</td>\n",
       "      <td>1.28</td>\n",
       "      <td>4.38</td>\n",
       "      <td>1.05</td>\n",
       "      <td>3.40</td>\n",
       "      <td>1050</td>\n",
       "    </tr>\n",
       "    <tr>\n",
       "      <th>2</th>\n",
       "      <td>13.16</td>\n",
       "      <td>2.36</td>\n",
       "      <td>2.67</td>\n",
       "      <td>18.6</td>\n",
       "      <td>101</td>\n",
       "      <td>2.80</td>\n",
       "      <td>3.24</td>\n",
       "      <td>0.30</td>\n",
       "      <td>2.81</td>\n",
       "      <td>5.68</td>\n",
       "      <td>1.03</td>\n",
       "      <td>3.17</td>\n",
       "      <td>1185</td>\n",
       "    </tr>\n",
       "    <tr>\n",
       "      <th>3</th>\n",
       "      <td>14.37</td>\n",
       "      <td>1.95</td>\n",
       "      <td>2.50</td>\n",
       "      <td>16.8</td>\n",
       "      <td>113</td>\n",
       "      <td>3.85</td>\n",
       "      <td>3.49</td>\n",
       "      <td>0.24</td>\n",
       "      <td>2.18</td>\n",
       "      <td>7.80</td>\n",
       "      <td>0.86</td>\n",
       "      <td>3.45</td>\n",
       "      <td>1480</td>\n",
       "    </tr>\n",
       "    <tr>\n",
       "      <th>4</th>\n",
       "      <td>13.24</td>\n",
       "      <td>2.59</td>\n",
       "      <td>2.87</td>\n",
       "      <td>21.0</td>\n",
       "      <td>118</td>\n",
       "      <td>2.80</td>\n",
       "      <td>2.69</td>\n",
       "      <td>0.39</td>\n",
       "      <td>1.82</td>\n",
       "      <td>4.32</td>\n",
       "      <td>1.04</td>\n",
       "      <td>2.93</td>\n",
       "      <td>735</td>\n",
       "    </tr>\n",
       "  </tbody>\n",
       "</table>\n",
       "</div>"
      ],
      "text/plain": [
       "   Alcohol  Malic   Ash  Alcalinity  Magnesium  Phenols  Flavanoids  \\\n",
       "0    14.23   1.71  2.43        15.6        127     2.80        3.06   \n",
       "1    13.20   1.78  2.14        11.2        100     2.65        2.76   \n",
       "2    13.16   2.36  2.67        18.6        101     2.80        3.24   \n",
       "3    14.37   1.95  2.50        16.8        113     3.85        3.49   \n",
       "4    13.24   2.59  2.87        21.0        118     2.80        2.69   \n",
       "\n",
       "   Nonflavanoids  Proanthocyanins  Color   Hue  Dilution  Proline  \n",
       "0           0.28             2.29   5.64  1.04      3.92     1065  \n",
       "1           0.26             1.28   4.38  1.05      3.40     1050  \n",
       "2           0.30             2.81   5.68  1.03      3.17     1185  \n",
       "3           0.24             2.18   7.80  0.86      3.45     1480  \n",
       "4           0.39             1.82   4.32  1.04      2.93      735  "
      ]
     },
     "execution_count": 2,
     "metadata": {},
     "output_type": "execute_result"
    }
   ],
   "source": [
    "data=pd.read_csv(\"wine.csv\")\n",
    "\n",
    "data.drop(columns=\"Type\",inplace=True)\n",
    "data.head()"
   ]
  },
  {
   "cell_type": "markdown",
   "id": "ab32156e",
   "metadata": {},
   "source": [
    "# MANUAL PCA"
   ]
  },
  {
   "cell_type": "markdown",
   "id": "a931eed4",
   "metadata": {},
   "source": [
    "Feature Scaling:Standardization for PCA"
   ]
  },
  {
   "cell_type": "code",
   "execution_count": 3,
   "id": "86668d77",
   "metadata": {},
   "outputs": [
    {
     "data": {
      "text/plain": [
       "array([4.73243698, 2.51108093, 1.45424187, 0.92416587, 0.85804868,\n",
       "       0.64528221, 0.55414147, 0.10396199, 0.35046627, 0.16972374,\n",
       "       0.29051203, 0.22706428, 0.25232001])"
      ]
     },
     "execution_count": 3,
     "metadata": {},
     "output_type": "execute_result"
    }
   ],
   "source": [
    "stdalgo=StandardScaler()\n",
    "stddata=stdalgo.fit_transform(data)\n",
    "stddf=pd.DataFrame(stddata)\n",
    "cov=stddf.cov()\n",
    "values,vectors=np.linalg.eig(cov)\n",
    "values\n",
    "\n"
   ]
  },
  {
   "cell_type": "code",
   "execution_count": 4,
   "id": "ee3b4b02",
   "metadata": {},
   "outputs": [],
   "source": [
    "pc0=stddf@vectors[:,0]\n",
    "pc1=stddf@vectors[:,1]\n",
    "pc2=stddf@vectors[:,2]\n",
    "pc3=stddf@vectors[:,3]\n",
    "pc4=stddf@vectors[:,4]\n",
    "pc5=stddf@vectors[:,5]\n",
    "pc6=stddf@vectors[:,6]\n",
    "pc7=stddf@vectors[:,8]\n",
    "pc8=stddf@vectors[:,10]\n",
    "pc9=stddf@vectors[:,12]\n",
    "pc10=stddf@vectors[:,11]\n",
    "pc11=stddf@vectors[:,7]"
   ]
  },
  {
   "cell_type": "markdown",
   "id": "e30951ca",
   "metadata": {},
   "source": [
    "# PCA USing SKLEARN"
   ]
  },
  {
   "cell_type": "code",
   "execution_count": 5,
   "id": "fcc68638",
   "metadata": {},
   "outputs": [
    {
     "data": {
      "text/plain": [
       "array([0.36198848, 0.1920749 , 0.11123631, 0.0706903 , 0.06563294,\n",
       "       0.04935823, 0.04238679, 0.02680749, 0.02222153, 0.01930019,\n",
       "       0.01736836, 0.01298233, 0.00795215])"
      ]
     },
     "execution_count": 5,
     "metadata": {},
     "output_type": "execute_result"
    }
   ],
   "source": [
    "PCAalgo=PCA()\n",
    "PCAalgo.fit_transform(stddf)\n",
    "PCAalgo.explained_variance_ratio_"
   ]
  },
  {
   "cell_type": "code",
   "execution_count": 6,
   "id": "7e3fc89c",
   "metadata": {},
   "outputs": [
    {
     "data": {
      "text/plain": [
       "array([0.36198848, 0.55406338, 0.66529969, 0.73598999, 0.80162293,\n",
       "       0.85098116, 0.89336795, 0.92017544, 0.94239698, 0.96169717,\n",
       "       0.97906553, 0.99204785, 1.        ])"
      ]
     },
     "execution_count": 6,
     "metadata": {},
     "output_type": "execute_result"
    }
   ],
   "source": [
    "np.cumsum(PCAalgo.explained_variance_ratio_)"
   ]
  },
  {
   "cell_type": "markdown",
   "id": "5af1f526",
   "metadata": {},
   "source": [
    "# SCREE Plot "
   ]
  },
  {
   "cell_type": "code",
   "execution_count": null,
   "id": "16734026",
   "metadata": {},
   "outputs": [],
   "source": []
  },
  {
   "cell_type": "code",
   "execution_count": 7,
   "id": "a88567e4",
   "metadata": {},
   "outputs": [
    {
     "data": {
      "text/plain": [
       "[<matplotlib.lines.Line2D at 0x265edcb2c10>]"
      ]
     },
     "execution_count": 7,
     "metadata": {},
     "output_type": "execute_result"
    },
    {
     "data": {
      "image/png": "[encoded data removed]",
      "text/plain": [
       "<Figure size 640x480 with 1 Axes>"
      ]
     },
     "metadata": {},
     "output_type": "display_data"
    }
   ],
   "source": [
    "plt.plot(np.cumsum(PCAalgo.explained_variance_ratio_))"
   ]
  },
  {
   "cell_type": "markdown",
   "id": "41bbdf47",
   "metadata": {},
   "source": [
    "# Elbow Plot"
   ]
  },
  {
   "cell_type": "code",
   "execution_count": 8,
   "id": "622b2163",
   "metadata": {},
   "outputs": [
    {
     "data": {
      "text/plain": [
       "[<matplotlib.lines.Line2D at 0x265edd13070>]"
      ]
     },
     "execution_count": 8,
     "metadata": {},
     "output_type": "execute_result"
    },
    {
     "data": {
      "image/png": "[encoded data removed]",
      "text/plain": [
       "<Figure size 640x480 with 1 Axes>"
      ]
     },
     "metadata": {},
     "output_type": "display_data"
    }
   ],
   "source": [
    "plt.plot(PCAalgo.explained_variance_ratio_)"
   ]
  },
  {
   "cell_type": "code",
   "execution_count": 9,
   "id": "56677dec",
   "metadata": {},
   "outputs": [
    {
     "data": {
      "text/plain": [
       "array([0.36198848, 0.55406338, 0.66529969])"
      ]
     },
     "execution_count": 9,
     "metadata": {},
     "output_type": "execute_result"
    }
   ],
   "source": [
    "# PCA for 3 components\n",
    "PCAalgo=PCA(n_components=3)\n",
    "pcadf=pd.DataFrame(PCAalgo.fit_transform(stddf))\n",
    "\n",
    "PCAalgo.explained_variance_\n",
    "np.cumsum(PCAalgo.explained_variance_ratio_)"
   ]
  },
  {
   "cell_type": "code",
   "execution_count": 10,
   "id": "4edad06d",
   "metadata": {},
   "outputs": [
    {
     "data": {
      "text/plain": [
       "<matplotlib.lines.Line2D at 0x265edee3df0>"
      ]
     },
     "execution_count": 10,
     "metadata": {},
     "output_type": "execute_result"
    },
    {
     "data": {
      "image/png": "[encoded data removed]",
      "text/plain": [
       "<Figure size 640x480 with 1 Axes>"
      ]
     },
     "metadata": {},
     "output_type": "display_data"
    }
   ],
   "source": [
    "from scipy.cluster import hierarchy\n",
    "\n",
    "lk = hierarchy.linkage(pcadf,method='complete')\n",
    "dendrogram = hierarchy.dendrogram(lk)\n",
    "plt.axhline(y = 8 , c = 'red', linestyle = '--')"
   ]
  },
  {
   "cell_type": "markdown",
   "id": "326cd320",
   "metadata": {},
   "source": [
    "Insights: In the original data there are 3 group  which has been classified by including all the Available features.\n",
    "Here we have seen that the same classification number ie 3 clusters are obtained just by using first 3 features with a 0.66 cumulative explained variance ."
   ]
  },
  {
   "cell_type": "markdown",
   "id": "4a23ebc0",
   "metadata": {},
   "source": [
    "# KMEAN Clustering"
   ]
  },
  {
   "cell_type": "code",
   "execution_count": 12,
   "id": "1fea4b8d",
   "metadata": {},
   "outputs": [
    {
     "data": {
      "text/plain": [
       "array([[-0.76662764, -0.65488863, -1.38945669, -0.42728867, -0.79632973,\n",
       "         0.07256582,  0.11879972, -0.56609256, -0.16837332, -0.82209488,\n",
       "         0.62190773,  0.41739748, -0.78240864],\n",
       "       [ 0.34165208,  0.60902107,  0.33440209,  0.67415668,  0.32708372,\n",
       "        -0.93626213, -1.06588101,  0.19456433, -0.4199726 ,  1.58385937,\n",
       "        -1.38573847, -1.45098187, -0.35632338],\n",
       "       [ 1.11464751, -0.33880446, -0.00801444, -1.06002973,  0.39957425,\n",
       "         1.02596175,  1.0831179 , -0.78369688,  0.77881284,  0.37166734,\n",
       "         0.34439077,  0.87142532,  1.30624055],\n",
       "       [-1.02603329, -0.52382982,  0.11215736,  0.61650196, -0.61658358,\n",
       "        -0.56067561, -0.27154254,  0.83918881, -0.36881174, -0.94684806,\n",
       "         0.59663666, -0.08882202, -0.7109486 ],\n",
       "       [ 0.64092428, -0.4578374 ,  1.13049686,  0.0584144 ,  0.82744616,\n",
       "         0.73815747,  0.78911131, -0.1972995 ,  0.18377715, -0.05381416,\n",
       "         0.81014765,  0.63321875,  1.05658621],\n",
       "       [-0.00503928,  1.1239759 ,  0.04506779,  0.38033936, -0.46254631,\n",
       "        -1.02074198, -1.35886939,  1.23712047, -1.12560426,  0.32392275,\n",
       "        -0.9523369 , -1.13994024, -0.45590005],\n",
       "       [-0.82015579, -0.9901359 , -1.46158875, -0.78923218,  3.50540761,\n",
       "        -0.33934021, -0.23017911, -0.74014117,  2.20021082, -0.9118964 ,\n",
       "         0.91790685,  0.08236605,  0.17442558],\n",
       "       [-0.8084894 ,  0.51245247,  0.31125159,  0.50032503, -0.10277795,\n",
       "         0.62116853,  0.63434779, -0.49393043,  0.79367661, -0.76602419,\n",
       "        -0.10824293,  0.73208974, -0.60188323]])"
      ]
     },
     "execution_count": 12,
     "metadata": {},
     "output_type": "execute_result"
    }
   ],
   "source": [
    "from sklearn.cluster import KMeans\n",
    "km = KMeans()\n",
    "y = km.fit_predict(stddf)\n",
    "km.cluster_centers_"
   ]
  },
  {
   "cell_type": "markdown",
   "id": "8c9672ca",
   "metadata": {},
   "source": [
    "# ELBOW graph"
   ]
  },
  {
   "cell_type": "code",
   "execution_count": 20,
   "id": "220dd5d3",
   "metadata": {},
   "outputs": [
    {
     "data": {
      "text/plain": [
       "[2314.0,\n",
       " 1659.0079672511501,\n",
       " 1277.928488844642,\n",
       " 1175.3789993448736,\n",
       " 1112.8167803281456,\n",
       " 1052.1536002033986,\n",
       " 996.385221177651,\n",
       " 940.354542817198,\n",
       " 903.7159505371553,\n",
       " 851.5550977380384,\n",
       " 823.9026872195622,\n",
       " 798.7679529244838,\n",
       " 773.8361360232324,\n",
       " 754.0732032922333,\n",
       " 719.6153950417836,\n",
       " 696.9504479977006,\n",
       " 686.8120350379737,\n",
       " 669.9210823085277,\n",
       " 638.469108139381]"
      ]
     },
     "execution_count": 20,
     "metadata": {},
     "output_type": "execute_result"
    }
   ],
   "source": [
    "import warnings\n",
    "warnings.filterwarnings(\"ignore\")\n",
    "wcss = []\n",
    "\n",
    "for i in range(1,20):\n",
    "    km = KMeans(n_clusters=i)\n",
    "    km.fit_predict(stddf)\n",
    "    wcss.append(km.inertia_)\n",
    "    \n",
    "wcss"
   ]
  },
  {
   "cell_type": "code",
   "execution_count": 21,
   "id": "952f7d95",
   "metadata": {},
   "outputs": [
    {
     "data": {
      "text/plain": [
       "[<matplotlib.lines.Line2D at 0x265f0b7e3d0>]"
      ]
     },
     "execution_count": 21,
     "metadata": {},
     "output_type": "execute_result"
    },
    {
     "data": {
      "image/png": "[encoded data removed]",
      "text/plain": [
       "<Figure size 640x480 with 1 Axes>"
      ]
     },
     "metadata": {},
     "output_type": "display_data"
    }
   ],
   "source": [
    "plt.plot(range(1,20),wcss)"
   ]
  },
  {
   "cell_type": "markdown",
   "id": "0d66825f",
   "metadata": {},
   "source": [
    "Here also as per the analysis optimal clusteres =3"
   ]
  }
 ],
 "metadata": {
  "kernelspec": {
   "display_name": "Python 3 (ipykernel)",
   "language": "python",
   "name": "python3"
  },
  "language_info": {
   "codemirror_mode": {
    "name": "ipython",
    "version": 3
   },
   "file_extension": ".py",
   "mimetype": "text/x-python",
   "name": "python",
   "nbconvert_exporter": "python",
   "pygments_lexer": "ipython3",
   "version": "3.9.13"
  }
 },
 "nbformat": 4,
 "nbformat_minor": 5
}
