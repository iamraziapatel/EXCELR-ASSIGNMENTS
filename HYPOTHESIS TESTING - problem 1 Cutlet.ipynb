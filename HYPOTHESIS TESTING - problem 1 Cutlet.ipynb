{
 "cells": [
  {
   "cell_type": "markdown",
   "id": "Rnn3fy67rTnV",
   "metadata": {
    "id": "Rnn3fy67rTnV"
   },
   "source": []
  },
  {
   "cell_type": "markdown",
   "id": "ChsQvGnS96Zl",
   "metadata": {
    "id": "ChsQvGnS96Zl"
   },
   "source": [
    "# Document Details and imports\n",
    "\n",
    "\n",
    " "
   ]
  },
  {
   "cell_type": "markdown",
   "id": "G9dptd3TCZXu",
   "metadata": {
    "id": "G9dptd3TCZXu"
   },
   "source": [
    "\n",
    "```\n",
    "**CREATED BY - Razia patel\n",
    "Date-16 feb23\n",
    "CODE related to - Assignment3 Topics: HYPOTHESIS TESTING\n",
    "\n",
    "\n",
    "```"
   ]
  },
  {
   "cell_type": "code",
   "execution_count": 1,
   "id": "t6_T-3ChlwWf",
   "metadata": {
    "executionInfo": {
     "elapsed": 1276,
     "status": "ok",
     "timestamp": 1676565541097,
     "user": {
      "displayName": "Razia patel",
      "userId": "07390603892196488607"
     },
     "user_tz": -330
    },
    "id": "t6_T-3ChlwWf"
   },
   "outputs": [],
   "source": [
    "#import the libraries\n",
    "import pandas as pd\n",
    "import seaborn as sns\n",
    "import scipy.stats as stats\n",
    "import matplotlib.pyplot as plt\n"
   ]
  },
  {
   "cell_type": "markdown",
   "id": "iodQ1dp0rhkC",
   "metadata": {
    "id": "iodQ1dp0rhkC"
   },
   "source": [
    "# Q1"
   ]
  },
  {
   "cell_type": "markdown",
   "id": "EJVKH81pqxj-",
   "metadata": {
    "id": "EJVKH81pqxj-"
   },
   "source": [
    "A F&B manager wants to determine whether there is any significant difference in the diameter of the cutlet between two units. A randomly selected sample of cutlets was collected from both units and measured? Analyze the data and draw inferences at 5% significance level. Please state the assumptions and tests that you carried out to check validity of the assumptions.\n",
    "\n"
   ]
  },
  {
   "cell_type": "code",
   "execution_count": 2,
   "id": "T8MSDsFgroUy",
   "metadata": {
    "colab": {
     "base_uri": "https://localhost:8080/",
     "height": 267
    },
    "executionInfo": {
     "elapsed": 852,
     "status": "ok",
     "timestamp": 1676565541926,
     "user": {
      "displayName": "Razia patel",
      "userId": "07390603892196488607"
     },
     "user_tz": -330
    },
    "id": "T8MSDsFgroUy",
    "outputId": "900600b0-2efb-414b-f730-d89f3197f114"
   },
   "outputs": [
    {
     "data": {
      "image/png": "[encoded data removed]",
      "text/plain": [
       "<Figure size 432x288 with 1 Axes>"
      ]
     },
     "metadata": {
      "needs_background": "light"
     },
     "output_type": "display_data"
    }
   ],
   "source": [
    "#dfcutlets = pd.read_csv(r'C:\\Users\\HP\\Desktop\\DATASCIENCE\\ASSIGNMENTS\\hypothesis testing\\Cutlets.csv')\n",
    "dfcutlets = pd.read_csv('Cutlets.csv')\n",
    "#test = dfcutlets.columns['Unit A']\n",
    "sns.boxplot(data=dfcutlets) # checking the data sanity for outliers\n",
    "plt.show()"
   ]
  },
  {
   "cell_type": "markdown",
   "id": "mrHpPKsZBE-F",
   "metadata": {
    "id": "mrHpPKsZBE-F"
   },
   "source": [
    "**Sstep 1 ** *FORMULATE THE NULL HYPOTHESIS AND THE ALTERNATIVE HYPOTHESIS*\n",
    "\n",
    "\n",
    "```\n",
    "# \n",
    "H0 MEAN OF UNIT A (U1) = MEAN OF UNIT A (U2)\n",
    "HA U1 =! U2 MEAN OF UNIT A IS NOT EQUAL TO U2 \n",
    "```\n",
    "\n"
   ]
  },
  {
   "cell_type": "markdown",
   "id": "DJmRROigDLDi",
   "metadata": {
    "id": "DJmRROigDLDi"
   },
   "source": []
  },
  {
   "cell_type": "markdown",
   "id": "C60pOmxeDOWC",
   "metadata": {
    "id": "C60pOmxeDOWC"
   },
   "source": [
    "**Sstep 2 ** *OUR TEST STATICSTIC FOR THIS HYPOTHESIS\n",
    "```\n",
    "*   THERE ARE 2 INDEPENDENT SAMPLES UNIT A AND UNIT B FROM THE SAME POPULATION  MANUFACTURING FIRM \n",
    "*   THE SAMPLE SIZE IS SMALL\n",
    "*   POPULATION DEVIATION IS NOT KNOWN \n",
    "CONSIDERING ALL THESE THINGS WE WILL USE THE 2 SAMPLE T TEST WITH ONE TAIL\n",
    "```\n",
    "\n"
   ]
  },
  {
   "cell_type": "code",
   "execution_count": 7,
   "id": "eTb--iNwEZvY",
   "metadata": {
    "colab": {
     "base_uri": "https://localhost:8080/"
    },
    "executionInfo": {
     "elapsed": 411,
     "status": "ok",
     "timestamp": 1676566112321,
     "user": {
      "displayName": "Razia patel",
      "userId": "07390603892196488607"
     },
     "user_tz": -330
    },
    "id": "eTb--iNwEZvY",
    "outputId": "e58524ad-97f5-4d0a-a3c0-86687b148c8c"
   },
   "outputs": [
    {
     "name": "stdout",
     "output_type": "stream",
     "text": [
      "p_value= 0.4722394724599501\n"
     ]
    }
   ],
   "source": [
    "# 2-sample 2-tail ttest:   stats.ttest_ind(array1,array2)     # ind -> independent samples\n",
    "p_value=stats.ttest_ind(dfcutlets['Unit A'].squeeze(),dfcutlets['Unit B'].squeeze()) # SQUEEZE IS USED TO CONVERT COLUMN VALUES TO SERIES\n",
    "print('p_value= ' + str(p_value[1]))"
   ]
  },
  {
   "cell_type": "markdown",
   "id": "hlwes7FaH4GD",
   "metadata": {
    "id": "hlwes7FaH4GD"
   },
   "source": [
    "p value = 0.47 which is greataer than the level of significance 0.05 hence there is no eveidence to prove that the null hypothesis is wrong \n",
    "Hence we will accept the NULL HYPOTHESIS WHICH STATES THAT THE AVERAGE MEAN DIAMETER OF BOTH UNIT CUTLETS ARE SAME. "
   ]
  }
 ],
 "metadata": {
  "colab": {
   "provenance": []
  },
  "gpuClass": "standard",
  "kernelspec": {
   "display_name": "Python 3 (ipykernel)",
   "language": "python",
   "name": "python3"
  },
  "language_info": {
   "codemirror_mode": {
    "name": "ipython",
    "version": 3
   },
   "file_extension": ".py",
   "mimetype": "text/x-python",
   "name": "python",
   "nbconvert_exporter": "python",
   "pygments_lexer": "ipython3",
   "version": "3.9.13"
  }
 },
 "nbformat": 4,
 "nbformat_minor": 5
}
