{
 "cells": [
  {
   "cell_type": "markdown",
   "id": "6b214ab8",
   "metadata": {},
   "source": [
    " TWO:\n",
    "1) Extract reviews of any product from ecommerce website like amazon\n",
    "2) Perform emotion mining\n",
    "\n",
    "Solution: Product details:<font color=red>Anveya Colorisma Hair Color Makeup - Euphoria Blue, 30ml </font>\n",
    "'https://www.amazon.in/Anveya-Colorisma-Hair-Color-Makeup/product-reviews/B0BBS5WH1Y'\n",
    "\n",
    "To extract reviews of a Wipro washing machine from an e-commerce website like Amazon and perform emotion mining, I can use web scraping techniques and natural language processing (NLP) libraries. \n",
    "Below code is using Python, BeautifulSoup for web scraping, and NLTK for emotion mining:"
   ]
  },
  {
   "cell_type": "code",
   "execution_count": 1,
   "id": "a692ec7d",
   "metadata": {},
   "outputs": [
    {
     "name": "stdout",
     "output_type": "stream",
     "text": [
      "Review 1: The product was good easy to use, but the colour was very leaky\n",
      "Emotion: Positive\n",
      "\n",
      "Review 2: I got the pink shade. It looks burgandy on black hair after application. However, the colour is not transfer proof and hands get stained everytime you touch it. That makes it very messy. It can also stain pillows.\n",
      "Emotion: Negative\n",
      "\n",
      "Review 3: It was just awesome.\n",
      "Emotion: Positive\n",
      "\n",
      "Review 4: Streaks are looking fabulous\n",
      "Emotion: Positive\n",
      "\n",
      "Review 5: Love to use this.\n",
      "Emotion: Positive\n",
      "\n",
      "Review 6: It’s a good product but very messy while applying and also transfers colour on clothes\n",
      "Emotion: Negative\n",
      "\n",
      "Review 7: This is a great product for those who loves to color their hair and don't want to damage the natural hairs. It's very easy to apply and remove. Comes in different color so u can play with colors.\n",
      "Emotion: Positive\n",
      "\n",
      "Review 8: It’s a hair make up…alright. So nobody is really expecting it to look as good as hair colour. But even after that, the colour is disappointing. No bleach is false advertising as it doesn’t really show colours on dark hair. The hair gets clunky and sticky and sadly, without any colour to show. The second time I applied a little more colour to see if it works, it came out in flakes every time I ran a comb through my hair. Complete waste of money if you have unbleached/lightened hair. I gave 3 stars because the colour doesn’t stain hand or comb or clothes. Which is a blessing.\n",
      "Emotion: Negative\n",
      "\n",
      "Review 9: Awesome\n",
      "Emotion: Positive\n",
      "\n",
      "Review 10: After using this my hairs looked nice and it was very easy to use with just bare hands.The bottle size is small but good for one time use.\n",
      "Emotion: Positive\n",
      "\n"
     ]
    }
   ],
   "source": [
    "import requests\n",
    "from bs4 import BeautifulSoup\n",
    "from nltk.sentiment.vader import SentimentIntensityAnalyzer\n",
    "\n",
    "# Function to extract reviews from Amazon page\n",
    "def extract_reviews(url):\n",
    "    response = requests.get(url)\n",
    "    soup = BeautifulSoup(response.text, 'html.parser')\n",
    "    reviews = []\n",
    "    review_elements = soup.find_all('div', {'data-hook': 'review'})\n",
    "    for element in review_elements:\n",
    "        review = element.find('span', {'data-hook': 'review-body'}).text.strip()\n",
    "        reviews.append(review)\n",
    "    return reviews\n",
    "\n",
    "# Function to perform emotion mining using Vader SentimentIntensityAnalyzer\n",
    "def perform_emotion_mining(reviews):\n",
    "    sid = SentimentIntensityAnalyzer()\n",
    "    emotions = []\n",
    "    for review in reviews:\n",
    "        sentiment_scores = sid.polarity_scores(review)\n",
    "        if sentiment_scores['compound'] >= 0.05:\n",
    "            emotion = 'Positive'\n",
    "        elif sentiment_scores['compound'] <= -0.05:\n",
    "            emotion = 'Negative'\n",
    "        else:\n",
    "            emotion = 'Neutral'\n",
    "        emotions.append(emotion)\n",
    "    return emotions\n",
    "\n",
    "\n",
    "url = 'https://www.amazon.in/Anveya-Colorisma-Hair-Color-Makeup/product-reviews/B0BBS5WH1Y'\n",
    "reviews = extract_reviews(url)\n",
    "emotions = perform_emotion_mining(reviews)\n",
    "\n",
    "\n",
    "# Print extracted reviews and corresponding emotions\n",
    "for i in range(len(reviews)):\n",
    "    print(f\"Review {i+1}: {reviews[i]}\")\n",
    "    print(f\"Emotion: {emotions[i]}\")\n",
    "    print()\n",
    "    \n",
    "\n",
    "    \n",
    "    \n"
   ]
  },
  {
   "cell_type": "markdown",
   "id": "ea289044",
   "metadata": {},
   "source": [
    "Insights: As we can see out of 10 reviews 7 are Positive reviews and 3 are negative reviews."
   ]
  },
  {
   "cell_type": "markdown",
   "id": "1f276e41",
   "metadata": {},
   "source": [
    "Product 2 :Women Handbag PU Shoulder Bag for Ladies with Top-handle Messenger ITSCOSY"
   ]
  },
  {
   "cell_type": "code",
   "execution_count": 5,
   "id": "e19aab11",
   "metadata": {},
   "outputs": [
    {
     "name": "stdout",
     "output_type": "stream",
     "text": [
      "Review 1: I always like to have a few options available when it comes to purses.  This purse is a nice quality.  Let's take a look..WHAT IS THIS PURSE LIKE?This purse is a pressed leather purse.  That means that there is a pressed design in it that would indicate that is is most likely bonded leather.  It is a process where real leather is blended up and reprocessed with a binder, allowing different patterns and textures to be pressed into it.  Is it leather?  Technically yes.There are some nice gold colored metal trim pieces around the purse which add to the classy appearance of the purse at first glance.  It also comes wrapped well in a cloth bag to keep it coming to you in really nice shape.HANDLESTwo shorter handles are wrapped well in plastic- protecting them during shipping.  There is a nice zipper inside which closes the purse, but not completely.  There is an optional shoulder strap which you can put on with hooks and remove if you don't want to have it.TWO INNER POCKETSThere are no outside pockets.  There are two inner sections which you can slip skinny things into.  Both outside inner sections close with a magnetized snap.CENTER ZIPPERED AREAThis center area is wide open with a squared floor to it.  There is a zippered pocket on one wall and a slip in pocket on the other wall.  The bottom has a lot of room and the shape of the purse allows the purse to stand up when you are rummaging through it.  It does not tip over easily.LININGThe lining is nice, but it is cheap on the inside of some parts of the leather.QUALITY OF LEATHER?This purse is a good one if you like a special purse and want to change it up often.  This type of purse is not going to last you for years, it will most likely start to wear quickly with rough use. For dress up, business work, or other purposes where you won't be using it roughly, it will do the job for a while and looks really classy.THE BOTTOM LINEThis is a nicely designed purse, does not tip over when placed on the flat surface, and will last a while and look classy.The leather quality is mediocre, but sufficient for occasional or careful use over time.MY RATINGThis is FOUR stars.  I wish the leather quality was better, but as it is, it still looks classy and will last a while with care.\n",
      "Emotion: Positive\n",
      "\n",
      "Review 2: This (PU) leather bag, in black, is a dressy looking handbag that can also work for everyday use. It looks dressier when carried with the top handles, rather than with the shoulder strap, which is included.It has decent looking gold-toned hardware to attach the shoulder strap. The hardware is also in the front and back of the top handles. The leather itself is embossed on one side with a crocodile-look pattern, and on the other side in a pebbled-leather look.It has three inner compartments. Two compartments snap shut, and one zips shut. They are all nice and deep, and hold lots of essentials. The bag is structured, by which I mean it has a definite shape that isn't slouchy. I don't think this bag will soften up as you use it. The shape looks as though it will hold over time. It also has four \"feet\" on the bottom to protect it there.It comes nicely packaged and bagged, also for protection, and instructions for care are included.Overall, I'd say this is a bag that will give you good everyday wear AND some wear on dressier occasions. (e.g. dinner out.)\n",
      "Emotion: Negative\n",
      "\n",
      "Review 3: Yes, yes, I know the product description says \"Made of high-quality poly urethane synthetic leather.\" But some synthetic leather bags do a pretty fair approximation of leather bags. This one does not. It looks like plastic, feels like plastic, and smells like plastic, which is a real shame because this bag is cute as can be.The design is good, with a big zippered pocket in the middle and roomy snap-top pockets on either side. This bag holds all my usual stuff with plenty of room for occasional extras, like my Kindle. The quality of construction seems good. The stitching is even with no stray threads and the handles are attached with rivets. I'd say the bag is mid-weight, fairly light for its size.Honestly, I'm not sure whether I'm going to carry this bag or not.\n",
      "Emotion: Positive\n",
      "\n",
      "Review 4: I literally stressed over whether to rate this bag 3 or 4 stars. And I still am not sure which way I will go. This bag in black is clearly not leather. It is textured on the front but not on the back which I think looks a bit strange. It is a boxy bag, more for business than casual in my opinion. It has a large middle compartment and two flat snap open compartments, one on each side. Those can only fit small and flat items. There is plenty of room in the main compartment as the bag opens wide and it not encumbered by divisions. It has a zip pocket and one long open one inside.The bag zips but not all the way. That is one of the cons for me. It zips leaving an inch of so on each side open. I like my stuff secure and those types of zippers are kind of annoying. The zipper though is fine and seems durable.There is an optional  removable long strap which you will need if you want to carry it in your shoulder. The handles are a bit too short to allow you to carry the bag on your shoulder without the long strap. The bottom has metal feet so that the bag doesn't touch the ground or wherever you set it. The bag is very structured and stands on its own. There is no \"floppiness\" to it. It looks like a little briefcase.Having said all that, I just feel that, while the bag is nice enough to look at, the partial zipper, the strange way it is not textured on the back, and powerful odor (Plastic perhaps? It's a strong odor that has yet to dissipate. I have kept dryer sheets in the bag for 10 days so far...) make me feel like I need to knock a star off from the 4 I was planning to give it. It's functional and can be used for work, for a formal occasion, or anytime and I like the open interior. I would rate 3.5 stars if I could but since I can't, I will go with 3. It is not a defective or poor quality bag though. It is just that there are some things that I personally don't like about it.\n",
      "Emotion: Positive\n",
      "\n",
      "Review 5: The bag has a classy, classic style that's perfect for every day use. The pockets and sections are nicely set up. You can use just the main body section, or unsnap either or both of the side sections for some additional (almost hidden) storage. It comes with a shoulder strap if you like, but this style of bag always looks goofy with the handles just standing up on their own, so I threw that part away. I prefer a smooth leather texture, so that's my only real gripe. All in all, it looks very nice (hardware included) for the price.\n",
      "Emotion: Positive\n",
      "\n",
      "Review 6: Embossed alligator look in black leather, bottom studs to protect the bottom of bag, optional use long strap that will clip on if wanted.  Magnetic snaps, sturdy big pull on heavy zipper.  Roomy! inside w/open pocket and zippered pocket too.  Upscale look w/nice hardware.  The front is the embossed side but entire purse is good looking.  I can carry my laptop and a bunch of my normal other stuff\n",
      "Emotion: Negative\n",
      "\n",
      "Review 7: ***Update November 12, 2019: My original 3-star review is below – original headline was “Good as handbag, shoulder strap can only be cross-body.” But I wanted to report that the vendor has recently been sending me threatening, profanity-laced emails in an attempt to get me to improve the rating to 5 stars. So instead, I have reduced it to 1 star, because of this vendor's treatment of its customers. Yes, I have reported this issue to Amazon.***I was glad to see that the seller changed the product headline that had previously indicated this bag is genuine leather. It’s man-made material, and while it’s a good imitation of leather, you can tell it’s not. It still looks pretty good, though. I like the design a lot. It’s very attractive, looks like a high-end handbag, and there is a great assortment of compartments to hold all your stuff.The style of bag I prefer is a shoulder bag with a short drop so that it hangs just above the hip. I assumed I could shorten the shoulder strap enough to create that effect, but I couldn’t. This is definitely intended to be a cross-body bag. The handbag handles do not detach, and I think when you use the shoulder strap, the handles make it look weird. The shoulder strap is very long, so it can only be used cross-body or a really really long shoulder bag. You can only shorten it a little, and it’s too much of a drop to be a regular shoulder bag, in my opinion.For the most part, this is a nice design, but it isn’t my personal style preference.\n",
      "Emotion: Positive\n",
      "\n",
      "Review 8: This shoulder bag is boxier and heavier looking than the advertised photo.  It has a central zipper pocket and side snap closure pockets for more space.  The look and feel is almost like a brief case except if isn't that wide.  Because of this it is bulky and not as attractive as I imagined it would be.  Due to the proportion of this item if you are 5'5\" or shorter this will look visually too big on you and probably too cumbersome.  If you are a taller or larger person then this might look more natural.  Another thing that makes the bag look old fashioned is the faux animal print which makes it look fake, too.\n",
      "Emotion: Negative\n",
      "\n",
      "Review 9: This is a large purse that has a lot of room. I was surprised at the quality.  It comes with a dust bag which looks nice, but the bag itself looks like plastic and has a strong smell.  It takes awhile to air out, so then you have to question the safety of this when it smells so bad when it arrives. The purse design and shape it cute and the outside has a stamped loom to it, but I wish the purse quality was a little better. Overall rating: 3 Stars\n",
      "Emotion: Positive\n",
      "\n",
      "Review 10: What a good looking, leather shoulder bag. It is made of genuine black leather and has a crocodile pattern on the front. It has room for all your necessary items, plus your laptop or iPad. It is great for everyday use or special occasions. It is a great gift for a friend or family member or yourself. I love the zipper closure and the side pockets with the button clasp. It has a shoulder strap for use as a crossbody purse. It comes with a dust cover to keep it nice looking when you are not using it.\n",
      "Emotion: Positive\n",
      "\n"
     ]
    }
   ],
   "source": [
    "urlhead=\"https://www.amazon.in/gp/aw/reviews/B07P3LHP6C\"\n",
    "reviews1 = extract_reviews(urlhead)\n",
    "emotions1 = perform_emotion_mining(reviews)\n",
    "\n",
    "for i in range(len(reviews1)):\n",
    "    print(f\"Review {i+1}: {reviews1[i]}\")\n",
    "    print(f\"Emotion: {emotions1[i]}\")\n",
    "    print()   \n"
   ]
  }
 ],
 "metadata": {
  "kernelspec": {
   "display_name": "Python 3 (ipykernel)",
   "language": "python",
   "name": "python3"
  },
  "language_info": {
   "codemirror_mode": {
    "name": "ipython",
    "version": 3
   },
   "file_extension": ".py",
   "mimetype": "text/x-python",
   "name": "python",
   "nbconvert_exporter": "python",
   "pygments_lexer": "ipython3",
   "version": "3.9.13"
  }
 },
 "nbformat": 4,
 "nbformat_minor": 5
}
